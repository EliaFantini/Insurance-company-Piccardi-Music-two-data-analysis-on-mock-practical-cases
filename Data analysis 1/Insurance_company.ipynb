{
 "cells": [
  {
   "cell_type": "markdown",
   "source": [
    "# Homework 1 (HW1)\n",
    "\n",
    "---\n",
    "By the end of this homework we expect you to be able to:\n",
    "1. Load data from different formats using [pandas](https://pandas.pydata.org/);\n",
    "2. Navigate the documentation of Python packages by yourself;\n",
    "3. Filter and tidy up noisy data sets;\n",
    "4. Aggregate your data in different (and hopefully helpful) ways; \n",
    "5. Create meaningful visualizations to analyze the data;\n",
    "6. Critically think and write about data;\n",
    "---\n",
    "\n",
    "## Important Dates\n",
    "\n",
    "- Homework release: Fri 8 Oct 2021\n",
    "- **Homework due**: Fri 22 Oct 2021, 23:59\n",
    "- Grade release: Fri 29 Oct 2021\n",
    "\n",
    "---\n",
    "\n",
    "##  Some rules\n",
    "\n",
    "1. You are allowed to use any built-in Python library that comes with Anaconda. If you want to use an external library, \n",
    "you may do so, but must justify your choice.\n",
    "2. Make sure you use the `data` folder provided in the repository in read-only mode. (Or alternatively, be sure you \n",
    "don’t change any of the files.)\n",
    "3. Be sure to provide a textual description of your thought process, the assumptions you made, the solution you \n",
    "implemented, and explanations for your answers. A notebook that only has code cells will not suffice.\n",
    "4. For questions containing the **/Discuss:/** prefix, answer not with code, but with a textual explanation\n",
    " (**in markdown**).\n",
    "5. Back up any hypotheses and claims with data, since this is an important aspect of the course.\n",
    "6. Please write all your comments in English, and use meaningful variable names in your code. Your repo should have a \n",
    "single notebook (plus the required data files) in the *master/main* branch. If there are multiple notebooks present, \n",
    "we will **not grade** anything.\n",
    "7. We will **not run your notebook for you**! Rather, we will grade it as is, which means that only the results \n",
    "contained in your evaluated code cells will be considered, and we will not see the results in unevaluated code cells. \n",
    "Thus, be sure to hand in a **fully-run and evaluated notebook**. In order to check whether everything looks as intended,\n",
    " you can check the rendered notebook on the GitHub website once you have pushed your solution there.\n",
    "8. In continuation to the previous point, interactive plots, such as those generated using `plotly`, should be \n",
    "**strictly avoided**!\n",
    "9. Make sure to print results or dataframes that confirm you have properly addressed the task.\n",
    "\n",
    "---\n",
    "\n",
    "## Context\n",
    "\n",
    "In this project, we are going to analyze data from an experiment about *honesty*. \n",
    "Oftentimes, we are asked to confirm our honest intentions by signing **at the end** of a document. \n",
    "For example, in tax returns or insurance policy forms, we are often asked to sign our names under a text that reads \n",
    "something like \"I hereby certify that the above statements are true and correct to the best of my knowledge.\"\n",
    "\n",
    "However, when individuals sign **after** lying in the form, they may not feel the need to correct the falsehoods they \n",
    "have reported. In that context, it could be that signing at **the beginning** rather than at the end of the document \n",
    "would decrease dishonesty, as those who are filling the form would be aware of the ethical requirements *before* they \n",
    "provide the information in the form.\n",
    "\n",
    "This intuition has led researchers to partner up with a motorcycle insurance company to run a randomized experiment. \n",
    "In this insurance company (as well as in many others), customers had to report the exact *odometer kilometrage*¹ in \n",
    "order for the company to adjust the insurance premiums. Note that motorcycles with lower kilometrage are less likely to \n",
    "have issues, and thus will result in a lower *insurance premium*². Therefore, customers have an incentive to lie, \n",
    "reporting a kilometrage lower than the real value, in order to save money.\n",
    "\n",
    "In the experiment, two different forms were created: one where the signing was done at the end, and another where the \n",
    "signing was done at the beginning. The insurance company then randomized these forms (i.e., each customer received\n",
    " exactly one form, each with probability 50%) and sent back the data that customers had provided. Some noteworthy \n",
    " details on the experiment are that:\n",
    "\n",
    "- All customers involved in the experiment already had a contract with the company and were simply renewing it. \n",
    "In the data that the company provided, they also report the odometer kilometrage for their previous contract.\n",
    "Each policy, therefore, contains two contracts: the \"updated\" contract —where the experiment was conducted— and \n",
    "the \"baseline\" contract, which was the previous contract customers had with the company.\n",
    "- A single insurance policy can insure up to 4 distinct motorcycles.\n",
    "\n",
    "In this assignment, you will take the role of the researcher and work analyzing this data!\n",
    "\n",
    "*Glossary:*\n",
    "1. **odometer kilometrage:** the total distance the motorcycle has traveled.\n",
    "2. **insurance premiums:** the amount of money one pays for an insurance policy.\n",
    "\n",
    "---\n",
    "\n",
    "## The data\n",
    "\n",
    "The company provided you with a compressed `.tsv` file containing one row per policy. \n",
    "The `.tsv` has the following fields:\n",
    "\n",
    "- `condition`: either `Sign Top` or `Sign Bottom`, depending on which form was sent.\n",
    "- `id`: unique identifier for each insurance policy.\n",
    "- `motorcycle_count`: number of motorcycles covered by the insurance policy.\n",
    "- `baseline_motorcycle[1-4]`: odometer kilometrage *reported by the customer* in the *previous (baseline)* contract. \n",
    "- `update_motorcycle[1-4]`: odometer kilometrage *reported by the customer* in the *current (updated)* contract.\n",
    "\n",
    "Some comments:\n",
    "\n",
    "- Recall that a single policy can ensure up to 4 motorcycles, and thus, the suffixes [1-4] indicate that there are 4 \n",
    "versions of these columns in the data (e.g., `baseline_motorcycle1`, `baseline_motorcycle2`, `baseline_motorcycle3`, \n",
    "`baseline_motorcycle4`). \n",
    "- When a policy has fewer than 4 motorcycles, only the columns with the smaller numerals are filled (e.g., if a policy \n",
    "insures one motorcycle,  only `baseline_motorcycle1` and `update_motorcycle1` will be filled).\n",
    "- Note that we only have access to the odometer kilometrage reported by the customers, \n",
    "which may be different from the real kilometrage of the motorcycles."
   ],
   "metadata": {
    "cell_id": "00000-38125391-e96f-410d-b56e-bd49f0666947",
    "deepnote_cell_type": "markdown",
    "pycharm": {
     "name": "#%% md\n"
    }
   }
  },
  {
   "cell_type": "code",
   "metadata": {
    "deepnote_to_be_reexecuted": false,
    "execution_millis": 1639,
    "execution_start": 1634805503315,
    "source_hash": "ecd30096",
    "cell_id": "00001-fad0b7c5-3b3c-4451-958f-4f82a2209c85",
    "deepnote_cell_type": "code",
    "pycharm": {
     "name": "#%%\n"
    }
   },
   "source": [
    "# Imports you may need\n",
    "import seaborn as sns\n",
    "from IPython.display import display, HTML\n",
    "import matplotlib.pyplot as plt\n",
    "import scipy.stats as stats\n",
    "import pandas as pd\n",
    "import numpy as np"
   ],
   "execution_count": 1,
   "outputs": []
  },
  {
   "cell_type": "markdown",
   "source": [
    "### **Task 1** — 4pts\n",
    "\n",
    "Your first task is to load the dataset into memory using pandas. \n",
    "**You should load the data directly from the compressed files.**\n",
    "\n",
    "Here, the files at hand are rather small, and you could easily uncompress the files to disk and work with them as plain \n",
    "text. Why, then, are we asking you to load the files compressed? The reason is that, in your life as a data scientist, \n",
    "this will often not be the case. Then, working with compressed files is key so that you don't receive email from your \n",
    "(often more responsible) colleagues demanding to know how you have managed to fill the entire cluster with your \n",
    "datasets. Another big advantage of compressing files is to simply read files faster. You will often find that reading\n",
    "compressed data on the fly (uncompressing it as you go), is much faster than reading uncompressed data, since reading\n",
    "and writing to disk may be your [bottleneck](https://skipperkongen.dk/2012/02/28/uncompressed-versus-compressed-read/). \n",
    "\n",
    "---\n",
    "\n",
    "**Hint:** `pandas` can open compressed files.\n",
    "\n",
    "**Hint:** In the real world (and in ADA-homework), your file often comes with some weird lines! \n",
    "This time you can safely ignore them (but in the real world you must try to understand why they are there!). \n",
    "Check the `error_bad_lines` or the `on_bad_lines` (depending on your pandas version) parameter on `read_csv`."
   ],
   "metadata": {
    "cell_id": "00002-82a434a8-c02e-4f22-a90e-c7948fedcb46",
    "deepnote_cell_type": "markdown",
    "pycharm": {
     "name": "#%% md\n"
    }
   }
  },
  {
   "cell_type": "code",
   "metadata": {
    "deepnote_to_be_reexecuted": false,
    "execution_millis": 49,
    "execution_start": 1634805504961,
    "source_hash": "4baaec6c",
    "cell_id": "00003-e6a51fc7-52b7-4db9-bcaf-02a9c2057785",
    "deepnote_cell_type": "code",
    "pycharm": {
     "name": "#%%\n"
    }
   },
   "source": [
    "data_folder = 'data/'\n",
    "dataframe = pd.read_csv(data_folder + 'data.tsv.gz', sep='\\t', warn_bad_lines=True, error_bad_lines=False)"
   ],
   "execution_count": 2,
   "outputs": [
    {
     "name": "stderr",
     "text": "b'Skipping line 2142: expected 11 fields, saw 27\\n'\n",
     "output_type": "stream"
    }
   ]
  },
  {
   "cell_type": "markdown",
   "source": [
    "### Task 2 — 12pts\n",
    "\n",
    "As a good data scientist, the first thing you do is to clean up the data and perform some small sanity checks.\n",
    "\n",
    "1. The motorcycle insurance company mentioned that each policy has a unique identifier, but that there may be duplicate \n",
    "    rows (i.e., multiple rows with the same policy identifier). Check if there are duplicate policies and, if so, filter \n",
    "    these rows from the data (always keeping the first).\n",
    "\n",
    "2. According to the company, all policies should have kept the number of motorcycles from the previous contract (i.e., \n",
    "    the number of motorcycles recorded in baseline contracts should equal the number of motorcycles in updated contracts). \n",
    "    Also, the number of odometer readings for each contract should be the same as the number stated in the \n",
    "    `motorcycle_count` variable. Check the data to see if these two things hold. If not, filter the anomalous rows.\n",
    "\n",
    "3. Calculate the mean and the median value of each column related to kilometrages. Are the values obtained plausible? \n",
    "    Visualize the distribution of the data and remove any extreme outliers.\n",
    "\n",
    "4. **Discuss:** In cases where you cannot think of appropriate ways to remove outliers, would you prefer summarizing \n",
    "    numerical data with outliers with the mean or the median? Why?\n",
    "\n",
    "---\n",
    "\n",
    "**Hint:** Here we are considering as outliers numbers that are not plausible in the context of motorcycle kilometrages."
   ],
   "metadata": {
    "cell_id": "00004-2e16dee5-3365-4dcb-9aca-ec8889932f9d",
    "deepnote_cell_type": "markdown",
    "pycharm": {
     "name": "#%% md\n"
    }
   }
  },
  {
   "cell_type": "code",
   "metadata": {
    "deepnote_to_be_reexecuted": false,
    "execution_millis": 184,
    "execution_start": 1634805505015,
    "source_hash": "7503c89d",
    "cell_id": "00005-308fd4f5-55d2-4bb6-9c35-8fe053c8a7be",
    "deepnote_cell_type": "code",
    "pycharm": {
     "name": "#%%\n"
    }
   },
   "source": [
    "# 2.1 Dropping rows with duplicate id\n",
    "dataframe = dataframe.drop_duplicates(subset=['id'], keep='first')\n",
    "dataframe.set_index('id')"
   ],
   "execution_count": 3,
   "outputs": [
    {
     "output_type": "execute_result",
     "execution_count": 3,
     "data": {
      "application/vnd.deepnote.dataframe.v2+json": {
       "row_count": 13488,
       "column_count": 10,
       "columns": [
        {
         "name": "condition",
         "dtype": "object",
         "stats": {
          "unique_count": 2,
          "nan_count": 0,
          "categories": [
           {
            "name": "Sign Top",
            "count": 6823
           },
           {
            "name": "Sign Bottom",
            "count": 6665
           }
          ]
         }
        },
        {
         "name": "baseline_motorcycle1",
         "dtype": "uint64",
         "stats": {
          "unique_count": 11479,
          "nan_count": 0,
          "min": "0",
          "max": "9999999999999999999",
          "histogram": [
           {
            "bin_start": 0,
            "bin_end": 1000000000000000000,
            "count": 13487
           },
           {
            "bin_start": 1000000000000000000,
            "bin_end": 2000000000000000000,
            "count": 0
           },
           {
            "bin_start": 2000000000000000000,
            "bin_end": 3000000000000000000,
            "count": 0
           },
           {
            "bin_start": 3000000000000000000,
            "bin_end": 4000000000000000000,
            "count": 0
           },
           {
            "bin_start": 4000000000000000000,
            "bin_end": 5000000000000000000,
            "count": 0
           },
           {
            "bin_start": 5000000000000000000,
            "bin_end": 6000000000000000000,
            "count": 0
           },
           {
            "bin_start": 6000000000000000000,
            "bin_end": 7000000000000000000,
            "count": 0
           },
           {
            "bin_start": 7000000000000000000,
            "bin_end": 8000000000000000000,
            "count": 0
           },
           {
            "bin_start": 8000000000000000000,
            "bin_end": 9000000000000000000,
            "count": 0
           },
           {
            "bin_start": 9000000000000000000,
            "bin_end": 10000000000000000000,
            "count": 1
           }
          ]
         }
        },
        {
         "name": "update_motorcycle1",
         "dtype": "uint64",
         "stats": {
          "unique_count": 12964,
          "nan_count": 0,
          "min": "42",
          "max": "9999999999999999999",
          "histogram": [
           {
            "bin_start": 42,
            "bin_end": 1000000000000000000,
            "count": 13487
           },
           {
            "bin_start": 1000000000000000000,
            "bin_end": 2000000000000000000,
            "count": 0
           },
           {
            "bin_start": 2000000000000000000,
            "bin_end": 3000000000000000000,
            "count": 0
           },
           {
            "bin_start": 3000000000000000000,
            "bin_end": 4000000000000000000,
            "count": 0
           },
           {
            "bin_start": 4000000000000000000,
            "bin_end": 5000000000000000000,
            "count": 0
           },
           {
            "bin_start": 5000000000000000000,
            "bin_end": 6000000000000000000,
            "count": 0
           },
           {
            "bin_start": 6000000000000000000,
            "bin_end": 7000000000000000000,
            "count": 0
           },
           {
            "bin_start": 7000000000000000000,
            "bin_end": 8000000000000000000,
            "count": 0
           },
           {
            "bin_start": 8000000000000000000,
            "bin_end": 9000000000000000000,
            "count": 0
           },
           {
            "bin_start": 9000000000000000000,
            "bin_end": 10000000000000000000,
            "count": 1
           }
          ]
         }
        },
        {
         "name": "baseline_motorcycle2",
         "dtype": "float64",
         "stats": {
          "unique_count": 4947,
          "nan_count": 7840,
          "min": "0.0",
          "max": "1000581.0",
          "histogram": [
           {
            "bin_start": 0,
            "bin_end": 100058.1,
            "count": 4327
           },
           {
            "bin_start": 100058.1,
            "bin_end": 200116.2,
            "count": 1195
           },
           {
            "bin_start": 200116.2,
            "bin_end": 300174.30000000005,
            "count": 110
           },
           {
            "bin_start": 300174.30000000005,
            "bin_end": 400232.4,
            "count": 10
           },
           {
            "bin_start": 400232.4,
            "bin_end": 500290.5,
            "count": 0
           },
           {
            "bin_start": 500290.5,
            "bin_end": 600348.6000000001,
            "count": 0
           },
           {
            "bin_start": 600348.6000000001,
            "bin_end": 700406.7000000001,
            "count": 0
           },
           {
            "bin_start": 700406.7000000001,
            "bin_end": 800464.8,
            "count": 2
           },
           {
            "bin_start": 800464.8,
            "bin_end": 900522.9,
            "count": 0
           },
           {
            "bin_start": 900522.9,
            "bin_end": 1000581,
            "count": 4
           }
          ]
         }
        },
        {
         "name": "update_motorcycle2",
         "dtype": "float64",
         "stats": {
          "unique_count": 5543,
          "nan_count": 7840,
          "min": "116.0",
          "max": "1030915.0",
          "histogram": [
           {
            "bin_start": 116,
            "bin_end": 103195.9,
            "count": 3620
           },
           {
            "bin_start": 103195.9,
            "bin_end": 206275.8,
            "count": 1804
           },
           {
            "bin_start": 206275.8,
            "bin_end": 309355.69999999995,
            "count": 205
           },
           {
            "bin_start": 309355.69999999995,
            "bin_end": 412435.6,
            "count": 13
           },
           {
            "bin_start": 412435.6,
            "bin_end": 515515.5,
            "count": 0
           },
           {
            "bin_start": 515515.5,
            "bin_end": 618595.3999999999,
            "count": 0
           },
           {
            "bin_start": 618595.3999999999,
            "bin_end": 721675.2999999999,
            "count": 0
           },
           {
            "bin_start": 721675.2999999999,
            "bin_end": 824755.2,
            "count": 2
           },
           {
            "bin_start": 824755.2,
            "bin_end": 927835.1,
            "count": 0
           },
           {
            "bin_start": 927835.1,
            "bin_end": 1030915,
            "count": 4
           }
          ]
         }
        },
        {
         "name": "baseline_motorcycle3",
         "dtype": "float64",
         "stats": {
          "unique_count": 1190,
          "nan_count": 12211,
          "min": "0.0",
          "max": "884594.0",
          "histogram": [
           {
            "bin_start": 0,
            "bin_end": 88459.4,
            "count": 855
           },
           {
            "bin_start": 88459.4,
            "bin_end": 176918.8,
            "count": 362
           },
           {
            "bin_start": 176918.8,
            "bin_end": 265378.19999999995,
            "count": 56
           },
           {
            "bin_start": 265378.19999999995,
            "bin_end": 353837.6,
            "count": 2
           },
           {
            "bin_start": 353837.6,
            "bin_end": 442297,
            "count": 0
           },
           {
            "bin_start": 442297,
            "bin_end": 530756.3999999999,
            "count": 0
           },
           {
            "bin_start": 530756.3999999999,
            "bin_end": 619215.7999999999,
            "count": 0
           },
           {
            "bin_start": 619215.7999999999,
            "bin_end": 707675.2,
            "count": 0
           },
           {
            "bin_start": 707675.2,
            "bin_end": 796134.6,
            "count": 0
           },
           {
            "bin_start": 796134.6,
            "bin_end": 884594,
            "count": 2
           }
          ]
         }
        },
        {
         "name": "update_motorcycle3",
         "dtype": "float64",
         "stats": {
          "unique_count": 1265,
          "nan_count": 12211,
          "min": "155.0",
          "max": "931105.0",
          "histogram": [
           {
            "bin_start": 155,
            "bin_end": 93250,
            "count": 688
           },
           {
            "bin_start": 93250,
            "bin_end": 186345,
            "count": 494
           },
           {
            "bin_start": 186345,
            "bin_end": 279440,
            "count": 91
           },
           {
            "bin_start": 279440,
            "bin_end": 372535,
            "count": 2
           },
           {
            "bin_start": 372535,
            "bin_end": 465630,
            "count": 0
           },
           {
            "bin_start": 465630,
            "bin_end": 558725,
            "count": 0
           },
           {
            "bin_start": 558725,
            "bin_end": 651820,
            "count": 0
           },
           {
            "bin_start": 651820,
            "bin_end": 744915,
            "count": 0
           },
           {
            "bin_start": 744915,
            "bin_end": 838010,
            "count": 0
           },
           {
            "bin_start": 838010,
            "bin_end": 931105,
            "count": 2
           }
          ]
         }
        },
        {
         "name": "baseline_motorcycle4",
         "dtype": "float64"
        },
        {
         "name": "update_motorcycle4",
         "dtype": "float64"
        },
        {
         "name": "motorcycle_count",
         "dtype": "int64"
        },
        {
         "name": "_deepnote_index_column",
         "dtype": "int64"
        }
       ],
       "rows_top": [
        {
         "condition": "Sign Top",
         "baseline_motorcycle1": 896,
         "update_motorcycle1": 39198,
         "baseline_motorcycle2": "nan",
         "update_motorcycle2": "nan",
         "baseline_motorcycle3": "nan",
         "update_motorcycle3": "nan",
         "baseline_motorcycle4": "nan",
         "update_motorcycle4": "nan",
         "motorcycle_count": 1,
         "_deepnote_index_column": 1
        },
        {
         "condition": "Sign Bottom",
         "baseline_motorcycle1": 21396,
         "update_motorcycle1": 63511,
         "baseline_motorcycle2": 32659,
         "update_motorcycle2": 47605,
         "baseline_motorcycle3": "nan",
         "update_motorcycle3": "nan",
         "baseline_motorcycle4": "nan",
         "update_motorcycle4": "nan",
         "motorcycle_count": 2,
         "_deepnote_index_column": 2
        },
        {
         "condition": "Sign Bottom",
         "baseline_motorcycle1": 21340,
         "update_motorcycle1": 37460,
         "baseline_motorcycle2": 44998,
         "update_motorcycle2": 59002,
         "baseline_motorcycle3": "nan",
         "update_motorcycle3": "nan",
         "baseline_motorcycle4": "nan",
         "update_motorcycle4": "nan",
         "motorcycle_count": 2,
         "_deepnote_index_column": 3
        },
        {
         "condition": "Sign Bottom",
         "baseline_motorcycle1": 23912,
         "update_motorcycle1": 59136,
         "baseline_motorcycle2": "nan",
         "update_motorcycle2": "nan",
         "baseline_motorcycle3": "nan",
         "update_motorcycle3": "nan",
         "baseline_motorcycle4": "nan",
         "update_motorcycle4": "nan",
         "motorcycle_count": 1,
         "_deepnote_index_column": 4
        },
        {
         "condition": "Sign Bottom",
         "baseline_motorcycle1": 16862,
         "update_motorcycle1": 59292,
         "baseline_motorcycle2": "nan",
         "update_motorcycle2": "nan",
         "baseline_motorcycle3": "nan",
         "update_motorcycle3": "nan",
         "baseline_motorcycle4": "nan",
         "update_motorcycle4": "nan",
         "motorcycle_count": 1,
         "_deepnote_index_column": 5
        },
        {
         "condition": "Sign Top",
         "baseline_motorcycle1": 147738,
         "update_motorcycle1": 167895,
         "baseline_motorcycle2": 125820,
         "update_motorcycle2": 164688,
         "baseline_motorcycle3": "nan",
         "update_motorcycle3": "nan",
         "baseline_motorcycle4": "nan",
         "update_motorcycle4": "nan",
         "motorcycle_count": 2,
         "_deepnote_index_column": 6
        },
        {
         "condition": "Sign Bottom",
         "baseline_motorcycle1": 18780,
         "update_motorcycle1": 49811,
         "baseline_motorcycle2": 45402,
         "update_motorcycle2": 54824,
         "baseline_motorcycle3": "nan",
         "update_motorcycle3": "nan",
         "baseline_motorcycle4": "nan",
         "update_motorcycle4": "nan",
         "motorcycle_count": 2,
         "_deepnote_index_column": 7
        },
        {
         "condition": "Sign Top",
         "baseline_motorcycle1": 41930,
         "update_motorcycle1": 80323,
         "baseline_motorcycle2": 181416,
         "update_motorcycle2": 229852,
         "baseline_motorcycle3": "nan",
         "update_motorcycle3": "nan",
         "baseline_motorcycle4": "nan",
         "update_motorcycle4": "nan",
         "motorcycle_count": 2,
         "_deepnote_index_column": 8
        },
        {
         "condition": "Sign Top",
         "baseline_motorcycle1": 28993,
         "update_motorcycle1": 63707,
         "baseline_motorcycle2": 13291,
         "update_motorcycle2": 28165,
         "baseline_motorcycle3": "nan",
         "update_motorcycle3": "nan",
         "baseline_motorcycle4": "nan",
         "update_motorcycle4": "nan",
         "motorcycle_count": 2,
         "_deepnote_index_column": 9
        },
        {
         "condition": "Sign Bottom",
         "baseline_motorcycle1": 78382,
         "update_motorcycle1": 127817,
         "baseline_motorcycle2": "nan",
         "update_motorcycle2": "nan",
         "baseline_motorcycle3": "nan",
         "update_motorcycle3": "nan",
         "baseline_motorcycle4": "nan",
         "update_motorcycle4": "nan",
         "motorcycle_count": 1,
         "_deepnote_index_column": 10
        },
        {
         "condition": "Sign Top",
         "baseline_motorcycle1": 58500,
         "update_motorcycle1": 81081,
         "baseline_motorcycle2": "nan",
         "update_motorcycle2": "nan",
         "baseline_motorcycle3": "nan",
         "update_motorcycle3": "nan",
         "baseline_motorcycle4": "nan",
         "update_motorcycle4": "nan",
         "motorcycle_count": 1,
         "_deepnote_index_column": 11
        },
        {
         "condition": "Sign Bottom",
         "baseline_motorcycle1": 99417,
         "update_motorcycle1": 149211,
         "baseline_motorcycle2": 48770,
         "update_motorcycle2": 95179,
         "baseline_motorcycle3": 72620,
         "update_motorcycle3": 115338,
         "baseline_motorcycle4": "nan",
         "update_motorcycle4": "nan",
         "motorcycle_count": 3,
         "_deepnote_index_column": 12
        },
        {
         "condition": "Sign Bottom",
         "baseline_motorcycle1": 93231,
         "update_motorcycle1": 98047,
         "baseline_motorcycle2": "nan",
         "update_motorcycle2": "nan",
         "baseline_motorcycle3": "nan",
         "update_motorcycle3": "nan",
         "baseline_motorcycle4": "nan",
         "update_motorcycle4": "nan",
         "motorcycle_count": 1,
         "_deepnote_index_column": 13
        },
        {
         "condition": "Sign Bottom",
         "baseline_motorcycle1": 83443,
         "update_motorcycle1": 105094,
         "baseline_motorcycle2": "nan",
         "update_motorcycle2": "nan",
         "baseline_motorcycle3": "nan",
         "update_motorcycle3": "nan",
         "baseline_motorcycle4": "nan",
         "update_motorcycle4": "nan",
         "motorcycle_count": 1,
         "_deepnote_index_column": 14
        },
        {
         "condition": "Sign Bottom",
         "baseline_motorcycle1": 22008,
         "update_motorcycle1": 26486,
         "baseline_motorcycle2": "nan",
         "update_motorcycle2": "nan",
         "baseline_motorcycle3": "nan",
         "update_motorcycle3": "nan",
         "baseline_motorcycle4": "nan",
         "update_motorcycle4": "nan",
         "motorcycle_count": 1,
         "_deepnote_index_column": 15
        },
        {
         "condition": "Sign Bottom",
         "baseline_motorcycle1": 27950,
         "update_motorcycle1": 59514,
         "baseline_motorcycle2": 95883,
         "update_motorcycle2": 126309,
         "baseline_motorcycle3": "nan",
         "update_motorcycle3": "nan",
         "baseline_motorcycle4": "nan",
         "update_motorcycle4": "nan",
         "motorcycle_count": 2,
         "_deepnote_index_column": 16
        },
        {
         "condition": "Sign Bottom",
         "baseline_motorcycle1": 67589,
         "update_motorcycle1": 100475,
         "baseline_motorcycle2": 27617,
         "update_motorcycle2": 74443,
         "baseline_motorcycle3": "nan",
         "update_motorcycle3": "nan",
         "baseline_motorcycle4": "nan",
         "update_motorcycle4": "nan",
         "motorcycle_count": 2,
         "_deepnote_index_column": 17
        },
        {
         "condition": "Sign Bottom",
         "baseline_motorcycle1": 32753,
         "update_motorcycle1": 76724,
         "baseline_motorcycle2": "nan",
         "update_motorcycle2": "nan",
         "baseline_motorcycle3": "nan",
         "update_motorcycle3": "nan",
         "baseline_motorcycle4": "nan",
         "update_motorcycle4": "nan",
         "motorcycle_count": 1,
         "_deepnote_index_column": 18
        },
        {
         "condition": "Sign Top",
         "baseline_motorcycle1": 33044,
         "update_motorcycle1": 70775,
         "baseline_motorcycle2": "nan",
         "update_motorcycle2": "nan",
         "baseline_motorcycle3": "nan",
         "update_motorcycle3": "nan",
         "baseline_motorcycle4": "nan",
         "update_motorcycle4": "nan",
         "motorcycle_count": 1,
         "_deepnote_index_column": 19
        },
        {
         "condition": "Sign Bottom",
         "baseline_motorcycle1": 104857,
         "update_motorcycle1": 109961,
         "baseline_motorcycle2": 19548,
         "update_motorcycle2": 47796,
         "baseline_motorcycle3": "nan",
         "update_motorcycle3": "nan",
         "baseline_motorcycle4": "nan",
         "update_motorcycle4": "nan",
         "motorcycle_count": 2,
         "_deepnote_index_column": 20
        },
        {
         "condition": "Sign Bottom",
         "baseline_motorcycle1": 121699,
         "update_motorcycle1": 137849,
         "baseline_motorcycle2": "nan",
         "update_motorcycle2": "nan",
         "baseline_motorcycle3": "nan",
         "update_motorcycle3": "nan",
         "baseline_motorcycle4": "nan",
         "update_motorcycle4": "nan",
         "motorcycle_count": 1,
         "_deepnote_index_column": 21
        },
        {
         "condition": "Sign Top",
         "baseline_motorcycle1": 16094,
         "update_motorcycle1": 45489,
         "baseline_motorcycle2": 159167,
         "update_motorcycle2": 200316,
         "baseline_motorcycle3": "nan",
         "update_motorcycle3": "nan",
         "baseline_motorcycle4": "nan",
         "update_motorcycle4": "nan",
         "motorcycle_count": 2,
         "_deepnote_index_column": 22
        },
        {
         "condition": "Sign Top",
         "baseline_motorcycle1": 78182,
         "update_motorcycle1": 122739,
         "baseline_motorcycle2": 21730,
         "update_motorcycle2": 37863,
         "baseline_motorcycle3": "nan",
         "update_motorcycle3": "nan",
         "baseline_motorcycle4": 118250,
         "update_motorcycle4": 166773,
         "motorcycle_count": 3,
         "_deepnote_index_column": 23
        },
        {
         "condition": "Sign Bottom",
         "baseline_motorcycle1": 21735,
         "update_motorcycle1": 58693,
         "baseline_motorcycle2": 39666,
         "update_motorcycle2": 77258,
         "baseline_motorcycle3": "nan",
         "update_motorcycle3": "nan",
         "baseline_motorcycle4": "nan",
         "update_motorcycle4": "nan",
         "motorcycle_count": 2,
         "_deepnote_index_column": 24
        },
        {
         "condition": "Sign Top",
         "baseline_motorcycle1": 47473,
         "update_motorcycle1": 68971,
         "baseline_motorcycle2": 4502,
         "update_motorcycle2": 47293,
         "baseline_motorcycle3": "nan",
         "update_motorcycle3": "nan",
         "baseline_motorcycle4": "nan",
         "update_motorcycle4": "nan",
         "motorcycle_count": 2,
         "_deepnote_index_column": 25
        },
        {
         "condition": "Sign Bottom",
         "baseline_motorcycle1": 121416,
         "update_motorcycle1": 123661,
         "baseline_motorcycle2": 53987,
         "update_motorcycle2": 86852,
         "baseline_motorcycle3": "nan",
         "update_motorcycle3": "nan",
         "baseline_motorcycle4": "nan",
         "update_motorcycle4": "nan",
         "motorcycle_count": 2,
         "_deepnote_index_column": 26
        },
        {
         "condition": "Sign Bottom",
         "baseline_motorcycle1": 4616,
         "update_motorcycle1": 30597,
         "baseline_motorcycle2": "nan",
         "update_motorcycle2": "nan",
         "baseline_motorcycle3": "nan",
         "update_motorcycle3": "nan",
         "baseline_motorcycle4": "nan",
         "update_motorcycle4": "nan",
         "motorcycle_count": 1,
         "_deepnote_index_column": 27
        },
        {
         "condition": "Sign Bottom",
         "baseline_motorcycle1": 13604,
         "update_motorcycle1": 31750,
         "baseline_motorcycle2": "nan",
         "update_motorcycle2": "nan",
         "baseline_motorcycle3": "nan",
         "update_motorcycle3": "nan",
         "baseline_motorcycle4": "nan",
         "update_motorcycle4": "nan",
         "motorcycle_count": 1,
         "_deepnote_index_column": 28
        },
        {
         "condition": "Sign Bottom",
         "baseline_motorcycle1": 125000,
         "update_motorcycle1": 139801,
         "baseline_motorcycle2": "nan",
         "update_motorcycle2": "nan",
         "baseline_motorcycle3": "nan",
         "update_motorcycle3": "nan",
         "baseline_motorcycle4": "nan",
         "update_motorcycle4": "nan",
         "motorcycle_count": 1,
         "_deepnote_index_column": 29
        },
        {
         "condition": "Sign Top",
         "baseline_motorcycle1": 40463,
         "update_motorcycle1": 70095,
         "baseline_motorcycle2": "nan",
         "update_motorcycle2": "nan",
         "baseline_motorcycle3": "nan",
         "update_motorcycle3": "nan",
         "baseline_motorcycle4": "nan",
         "update_motorcycle4": "nan",
         "motorcycle_count": 1,
         "_deepnote_index_column": 30
        },
        {
         "condition": "Sign Top",
         "baseline_motorcycle1": 34823,
         "update_motorcycle1": 78262,
         "baseline_motorcycle2": "nan",
         "update_motorcycle2": "nan",
         "baseline_motorcycle3": "nan",
         "update_motorcycle3": "nan",
         "baseline_motorcycle4": "nan",
         "update_motorcycle4": "nan",
         "motorcycle_count": 1,
         "_deepnote_index_column": 31
        },
        {
         "condition": "Sign Top",
         "baseline_motorcycle1": 120296,
         "update_motorcycle1": 137162,
         "baseline_motorcycle2": 138617,
         "update_motorcycle2": 169196,
         "baseline_motorcycle3": "nan",
         "update_motorcycle3": "nan",
         "baseline_motorcycle4": "nan",
         "update_motorcycle4": "nan",
         "motorcycle_count": 2,
         "_deepnote_index_column": 32
        },
        {
         "condition": "Sign Top",
         "baseline_motorcycle1": 79173,
         "update_motorcycle1": 125933,
         "baseline_motorcycle2": "nan",
         "update_motorcycle2": "nan",
         "baseline_motorcycle3": "nan",
         "update_motorcycle3": "nan",
         "baseline_motorcycle4": "nan",
         "update_motorcycle4": "nan",
         "motorcycle_count": 1,
         "_deepnote_index_column": 33
        },
        {
         "condition": "Sign Bottom",
         "baseline_motorcycle1": 110372,
         "update_motorcycle1": 142100,
         "baseline_motorcycle2": "nan",
         "update_motorcycle2": "nan",
         "baseline_motorcycle3": "nan",
         "update_motorcycle3": "nan",
         "baseline_motorcycle4": "nan",
         "update_motorcycle4": "nan",
         "motorcycle_count": 1,
         "_deepnote_index_column": 34
        },
        {
         "condition": "Sign Bottom",
         "baseline_motorcycle1": 3586,
         "update_motorcycle1": 41419,
         "baseline_motorcycle2": "nan",
         "update_motorcycle2": "nan",
         "baseline_motorcycle3": "nan",
         "update_motorcycle3": "nan",
         "baseline_motorcycle4": "nan",
         "update_motorcycle4": "nan",
         "motorcycle_count": 1,
         "_deepnote_index_column": 35
        },
        {
         "condition": "Sign Top",
         "baseline_motorcycle1": 26017,
         "update_motorcycle1": 60347,
         "baseline_motorcycle2": 12996,
         "update_motorcycle2": 17179,
         "baseline_motorcycle3": 95278,
         "update_motorcycle3": 115881,
         "baseline_motorcycle4": "nan",
         "update_motorcycle4": "nan",
         "motorcycle_count": 3,
         "_deepnote_index_column": 36
        },
        {
         "condition": "Sign Top",
         "baseline_motorcycle1": 149000,
         "update_motorcycle1": 177873,
         "baseline_motorcycle2": "nan",
         "update_motorcycle2": "nan",
         "baseline_motorcycle3": "nan",
         "update_motorcycle3": "nan",
         "baseline_motorcycle4": "nan",
         "update_motorcycle4": "nan",
         "motorcycle_count": 1,
         "_deepnote_index_column": 37
        },
        {
         "condition": "Sign Top",
         "baseline_motorcycle1": 15939,
         "update_motorcycle1": 17025,
         "baseline_motorcycle2": "nan",
         "update_motorcycle2": "nan",
         "baseline_motorcycle3": "nan",
         "update_motorcycle3": "nan",
         "baseline_motorcycle4": "nan",
         "update_motorcycle4": "nan",
         "motorcycle_count": 1,
         "_deepnote_index_column": 38
        },
        {
         "condition": "Sign Bottom",
         "baseline_motorcycle1": 23949,
         "update_motorcycle1": 27990,
         "baseline_motorcycle2": "nan",
         "update_motorcycle2": "nan",
         "baseline_motorcycle3": "nan",
         "update_motorcycle3": "nan",
         "baseline_motorcycle4": "nan",
         "update_motorcycle4": "nan",
         "motorcycle_count": 1,
         "_deepnote_index_column": 39
        },
        {
         "condition": "Sign Bottom",
         "baseline_motorcycle1": 119260,
         "update_motorcycle1": 143890,
         "baseline_motorcycle2": 46277,
         "update_motorcycle2": 62779,
         "baseline_motorcycle3": "nan",
         "update_motorcycle3": "nan",
         "baseline_motorcycle4": "nan",
         "update_motorcycle4": "nan",
         "motorcycle_count": 2,
         "_deepnote_index_column": 40
        },
        {
         "condition": "Sign Top",
         "baseline_motorcycle1": 31600,
         "update_motorcycle1": 33172,
         "baseline_motorcycle2": "nan",
         "update_motorcycle2": "nan",
         "baseline_motorcycle3": "nan",
         "update_motorcycle3": "nan",
         "baseline_motorcycle4": "nan",
         "update_motorcycle4": "nan",
         "motorcycle_count": 1,
         "_deepnote_index_column": 41
        },
        {
         "condition": "Sign Top",
         "baseline_motorcycle1": 80000,
         "update_motorcycle1": 96440,
         "baseline_motorcycle2": 120000,
         "update_motorcycle2": 140876,
         "baseline_motorcycle3": "nan",
         "update_motorcycle3": "nan",
         "baseline_motorcycle4": "nan",
         "update_motorcycle4": "nan",
         "motorcycle_count": 2,
         "_deepnote_index_column": 42
        },
        {
         "condition": "Sign Bottom",
         "baseline_motorcycle1": 119420,
         "update_motorcycle1": 162182,
         "baseline_motorcycle2": 210631,
         "update_motorcycle2": 258131,
         "baseline_motorcycle3": "nan",
         "update_motorcycle3": "nan",
         "baseline_motorcycle4": "nan",
         "update_motorcycle4": "nan",
         "motorcycle_count": 2,
         "_deepnote_index_column": 43
        },
        {
         "condition": "Sign Bottom",
         "baseline_motorcycle1": 91532,
         "update_motorcycle1": 119830,
         "baseline_motorcycle2": 64925,
         "update_motorcycle2": 67697,
         "baseline_motorcycle3": "nan",
         "update_motorcycle3": "nan",
         "baseline_motorcycle4": "nan",
         "update_motorcycle4": "nan",
         "motorcycle_count": 2,
         "_deepnote_index_column": 44
        },
        {
         "condition": "Sign Bottom",
         "baseline_motorcycle1": 120927,
         "update_motorcycle1": 130538,
         "baseline_motorcycle2": "nan",
         "update_motorcycle2": "nan",
         "baseline_motorcycle3": "nan",
         "update_motorcycle3": "nan",
         "baseline_motorcycle4": "nan",
         "update_motorcycle4": "nan",
         "motorcycle_count": 1,
         "_deepnote_index_column": 45
        },
        {
         "condition": "Sign Top",
         "baseline_motorcycle1": 116843,
         "update_motorcycle1": 143167,
         "baseline_motorcycle2": "nan",
         "update_motorcycle2": "nan",
         "baseline_motorcycle3": "nan",
         "update_motorcycle3": "nan",
         "baseline_motorcycle4": "nan",
         "update_motorcycle4": "nan",
         "motorcycle_count": 1,
         "_deepnote_index_column": 46
        },
        {
         "condition": "Sign Bottom",
         "baseline_motorcycle1": 53962,
         "update_motorcycle1": 98112,
         "baseline_motorcycle2": "nan",
         "update_motorcycle2": "nan",
         "baseline_motorcycle3": "nan",
         "update_motorcycle3": "nan",
         "baseline_motorcycle4": "nan",
         "update_motorcycle4": "nan",
         "motorcycle_count": 1,
         "_deepnote_index_column": 47
        },
        {
         "condition": "Sign Top",
         "baseline_motorcycle1": 67059,
         "update_motorcycle1": 105702,
         "baseline_motorcycle2": "nan",
         "update_motorcycle2": "nan",
         "baseline_motorcycle3": "nan",
         "update_motorcycle3": "nan",
         "baseline_motorcycle4": "nan",
         "update_motorcycle4": "nan",
         "motorcycle_count": 1,
         "_deepnote_index_column": 48
        },
        {
         "condition": "Sign Top",
         "baseline_motorcycle1": 117216,
         "update_motorcycle1": 118351,
         "baseline_motorcycle2": 206109,
         "update_motorcycle2": 235937,
         "baseline_motorcycle3": "nan",
         "update_motorcycle3": "nan",
         "baseline_motorcycle4": "nan",
         "update_motorcycle4": "nan",
         "motorcycle_count": 2,
         "_deepnote_index_column": 49
        },
        {
         "condition": "Sign Top",
         "baseline_motorcycle1": 43792,
         "update_motorcycle1": 91238,
         "baseline_motorcycle2": 67545,
         "update_motorcycle2": 85554,
         "baseline_motorcycle3": "nan",
         "update_motorcycle3": "nan",
         "baseline_motorcycle4": "nan",
         "update_motorcycle4": "nan",
         "motorcycle_count": 2,
         "_deepnote_index_column": 50
        }
       ],
       "rows_bottom": [
        {
         "condition": "Sign Top",
         "baseline_motorcycle1": 22000,
         "update_motorcycle1": 58679,
         "baseline_motorcycle2": 17276,
         "update_motorcycle2": 39720,
         "baseline_motorcycle3": "nan",
         "update_motorcycle3": "nan",
         "baseline_motorcycle4": "nan",
         "update_motorcycle4": "nan",
         "motorcycle_count": 2,
         "_deepnote_index_column": 13438
        },
        {
         "condition": "Sign Bottom",
         "baseline_motorcycle1": 76601,
         "update_motorcycle1": 86258,
         "baseline_motorcycle2": "nan",
         "update_motorcycle2": "nan",
         "baseline_motorcycle3": "nan",
         "update_motorcycle3": "nan",
         "baseline_motorcycle4": "nan",
         "update_motorcycle4": "nan",
         "motorcycle_count": 1,
         "_deepnote_index_column": 13439
        },
        {
         "condition": "Sign Top",
         "baseline_motorcycle1": 1007,
         "update_motorcycle1": 24386,
         "baseline_motorcycle2": "nan",
         "update_motorcycle2": "nan",
         "baseline_motorcycle3": "nan",
         "update_motorcycle3": "nan",
         "baseline_motorcycle4": "nan",
         "update_motorcycle4": "nan",
         "motorcycle_count": 1,
         "_deepnote_index_column": 13440
        },
        {
         "condition": "Sign Top",
         "baseline_motorcycle1": 23291,
         "update_motorcycle1": 47603,
         "baseline_motorcycle2": "nan",
         "update_motorcycle2": "nan",
         "baseline_motorcycle3": "nan",
         "update_motorcycle3": "nan",
         "baseline_motorcycle4": "nan",
         "update_motorcycle4": "nan",
         "motorcycle_count": 1,
         "_deepnote_index_column": 13441
        },
        {
         "condition": "Sign Bottom",
         "baseline_motorcycle1": 9954,
         "update_motorcycle1": 38534,
         "baseline_motorcycle2": 7327,
         "update_motorcycle2": 38731,
         "baseline_motorcycle3": "nan",
         "update_motorcycle3": "nan",
         "baseline_motorcycle4": "nan",
         "update_motorcycle4": "nan",
         "motorcycle_count": 2,
         "_deepnote_index_column": 13442
        },
        {
         "condition": "Sign Top",
         "baseline_motorcycle1": 90689,
         "update_motorcycle1": 122541,
         "baseline_motorcycle2": "nan",
         "update_motorcycle2": "nan",
         "baseline_motorcycle3": "nan",
         "update_motorcycle3": "nan",
         "baseline_motorcycle4": "nan",
         "update_motorcycle4": "nan",
         "motorcycle_count": 1,
         "_deepnote_index_column": 13443
        },
        {
         "condition": "Sign Top",
         "baseline_motorcycle1": 21900,
         "update_motorcycle1": 31638,
         "baseline_motorcycle2": 10000,
         "update_motorcycle2": 49951,
         "baseline_motorcycle3": "nan",
         "update_motorcycle3": "nan",
         "baseline_motorcycle4": "nan",
         "update_motorcycle4": "nan",
         "motorcycle_count": 2,
         "_deepnote_index_column": 13444
        },
        {
         "condition": "Sign Top",
         "baseline_motorcycle1": 29205,
         "update_motorcycle1": 35894,
         "baseline_motorcycle2": 38080,
         "update_motorcycle2": 87493,
         "baseline_motorcycle3": "nan",
         "update_motorcycle3": "nan",
         "baseline_motorcycle4": "nan",
         "update_motorcycle4": "nan",
         "motorcycle_count": 2,
         "_deepnote_index_column": 13445
        },
        {
         "condition": "Sign Bottom",
         "baseline_motorcycle1": 170183,
         "update_motorcycle1": 174782,
         "baseline_motorcycle2": "nan",
         "update_motorcycle2": "nan",
         "baseline_motorcycle3": "nan",
         "update_motorcycle3": "nan",
         "baseline_motorcycle4": "nan",
         "update_motorcycle4": "nan",
         "motorcycle_count": 1,
         "_deepnote_index_column": 13446
        },
        {
         "condition": "Sign Top",
         "baseline_motorcycle1": 112821,
         "update_motorcycle1": 142513,
         "baseline_motorcycle2": 190986,
         "update_motorcycle2": 240695,
         "baseline_motorcycle3": "nan",
         "update_motorcycle3": "nan",
         "baseline_motorcycle4": "nan",
         "update_motorcycle4": "nan",
         "motorcycle_count": 2,
         "_deepnote_index_column": 13447
        },
        {
         "condition": "Sign Bottom",
         "baseline_motorcycle1": 35677,
         "update_motorcycle1": 66693,
         "baseline_motorcycle2": 16864,
         "update_motorcycle2": 55674,
         "baseline_motorcycle3": "nan",
         "update_motorcycle3": "nan",
         "baseline_motorcycle4": "nan",
         "update_motorcycle4": "nan",
         "motorcycle_count": 2,
         "_deepnote_index_column": 13448
        },
        {
         "condition": "Sign Top",
         "baseline_motorcycle1": 499,
         "update_motorcycle1": 45488,
         "baseline_motorcycle2": "nan",
         "update_motorcycle2": "nan",
         "baseline_motorcycle3": "nan",
         "update_motorcycle3": "nan",
         "baseline_motorcycle4": "nan",
         "update_motorcycle4": "nan",
         "motorcycle_count": 1,
         "_deepnote_index_column": 13449
        },
        {
         "condition": "Sign Top",
         "baseline_motorcycle1": 37000,
         "update_motorcycle1": 69266,
         "baseline_motorcycle2": "nan",
         "update_motorcycle2": "nan",
         "baseline_motorcycle3": "nan",
         "update_motorcycle3": "nan",
         "baseline_motorcycle4": "nan",
         "update_motorcycle4": "nan",
         "motorcycle_count": 1,
         "_deepnote_index_column": 13450
        },
        {
         "condition": "Sign Top",
         "baseline_motorcycle1": 8555,
         "update_motorcycle1": 37195,
         "baseline_motorcycle2": 716,
         "update_motorcycle2": 24164,
         "baseline_motorcycle3": "nan",
         "update_motorcycle3": "nan",
         "baseline_motorcycle4": "nan",
         "update_motorcycle4": "nan",
         "motorcycle_count": 2,
         "_deepnote_index_column": 13452
        },
        {
         "condition": "Sign Bottom",
         "baseline_motorcycle1": 39948,
         "update_motorcycle1": 63647,
         "baseline_motorcycle2": 56200,
         "update_motorcycle2": 61272,
         "baseline_motorcycle3": "nan",
         "update_motorcycle3": "nan",
         "baseline_motorcycle4": "nan",
         "update_motorcycle4": "nan",
         "motorcycle_count": 2,
         "_deepnote_index_column": 13453
        },
        {
         "condition": "Sign Top",
         "baseline_motorcycle1": 977,
         "update_motorcycle1": 5332,
         "baseline_motorcycle2": "nan",
         "update_motorcycle2": "nan",
         "baseline_motorcycle3": "nan",
         "update_motorcycle3": "nan",
         "baseline_motorcycle4": "nan",
         "update_motorcycle4": "nan",
         "motorcycle_count": 1,
         "_deepnote_index_column": 13454
        },
        {
         "condition": "Sign Bottom",
         "baseline_motorcycle1": 57895,
         "update_motorcycle1": 100111,
         "baseline_motorcycle2": "nan",
         "update_motorcycle2": "nan",
         "baseline_motorcycle3": "nan",
         "update_motorcycle3": "nan",
         "baseline_motorcycle4": "nan",
         "update_motorcycle4": "nan",
         "motorcycle_count": 1,
         "_deepnote_index_column": 13455
        },
        {
         "condition": "Sign Bottom",
         "baseline_motorcycle1": 35084,
         "update_motorcycle1": 62127,
         "baseline_motorcycle2": "nan",
         "update_motorcycle2": "nan",
         "baseline_motorcycle3": "nan",
         "update_motorcycle3": "nan",
         "baseline_motorcycle4": "nan",
         "update_motorcycle4": "nan",
         "motorcycle_count": 1,
         "_deepnote_index_column": 13456
        },
        {
         "condition": "Sign Bottom",
         "baseline_motorcycle1": 49916,
         "update_motorcycle1": 55985,
         "baseline_motorcycle2": "nan",
         "update_motorcycle2": "nan",
         "baseline_motorcycle3": "nan",
         "update_motorcycle3": "nan",
         "baseline_motorcycle4": "nan",
         "update_motorcycle4": "nan",
         "motorcycle_count": 1,
         "_deepnote_index_column": 13457
        },
        {
         "condition": "Sign Top",
         "baseline_motorcycle1": 28600,
         "update_motorcycle1": 31463,
         "baseline_motorcycle2": "nan",
         "update_motorcycle2": "nan",
         "baseline_motorcycle3": "nan",
         "update_motorcycle3": "nan",
         "baseline_motorcycle4": "nan",
         "update_motorcycle4": "nan",
         "motorcycle_count": 1,
         "_deepnote_index_column": 13458
        },
        {
         "condition": "Sign Top",
         "baseline_motorcycle1": 91775,
         "update_motorcycle1": 125091,
         "baseline_motorcycle2": "nan",
         "update_motorcycle2": "nan",
         "baseline_motorcycle3": "nan",
         "update_motorcycle3": "nan",
         "baseline_motorcycle4": "nan",
         "update_motorcycle4": "nan",
         "motorcycle_count": 1,
         "_deepnote_index_column": 13459
        },
        {
         "condition": "Sign Bottom",
         "baseline_motorcycle1": 101143,
         "update_motorcycle1": 110251,
         "baseline_motorcycle2": "nan",
         "update_motorcycle2": "nan",
         "baseline_motorcycle3": 976,
         "update_motorcycle3": 6909,
         "baseline_motorcycle4": "nan",
         "update_motorcycle4": "nan",
         "motorcycle_count": 2,
         "_deepnote_index_column": 13460
        },
        {
         "condition": "Sign Top",
         "baseline_motorcycle1": 21277,
         "update_motorcycle1": 54002,
         "baseline_motorcycle2": 3059,
         "update_motorcycle2": 50223,
         "baseline_motorcycle3": "nan",
         "update_motorcycle3": "nan",
         "baseline_motorcycle4": "nan",
         "update_motorcycle4": "nan",
         "motorcycle_count": 2,
         "_deepnote_index_column": 13461
        },
        {
         "condition": "Sign Top",
         "baseline_motorcycle1": 5100,
         "update_motorcycle1": 53596,
         "baseline_motorcycle2": "nan",
         "update_motorcycle2": "nan",
         "baseline_motorcycle3": 207000,
         "update_motorcycle3": 214473,
         "baseline_motorcycle4": "nan",
         "update_motorcycle4": "nan",
         "motorcycle_count": 2,
         "_deepnote_index_column": 13462
        },
        {
         "condition": "Sign Bottom",
         "baseline_motorcycle1": 45268,
         "update_motorcycle1": 85452,
         "baseline_motorcycle2": "nan",
         "update_motorcycle2": "nan",
         "baseline_motorcycle3": "nan",
         "update_motorcycle3": "nan",
         "baseline_motorcycle4": "nan",
         "update_motorcycle4": "nan",
         "motorcycle_count": 1,
         "_deepnote_index_column": 13463
        },
        {
         "condition": "Sign Bottom",
         "baseline_motorcycle1": 129450,
         "update_motorcycle1": 145317,
         "baseline_motorcycle2": 65803,
         "update_motorcycle2": 96285,
         "baseline_motorcycle3": "nan",
         "update_motorcycle3": "nan",
         "baseline_motorcycle4": "nan",
         "update_motorcycle4": "nan",
         "motorcycle_count": 2,
         "_deepnote_index_column": 13464
        },
        {
         "condition": "Sign Bottom",
         "baseline_motorcycle1": 106243,
         "update_motorcycle1": 133721,
         "baseline_motorcycle2": 124357,
         "update_motorcycle2": 126203,
         "baseline_motorcycle3": "nan",
         "update_motorcycle3": "nan",
         "baseline_motorcycle4": "nan",
         "update_motorcycle4": "nan",
         "motorcycle_count": 2,
         "_deepnote_index_column": 13465
        },
        {
         "condition": "Sign Bottom",
         "baseline_motorcycle1": 151600,
         "update_motorcycle1": 171929,
         "baseline_motorcycle2": 113100,
         "update_motorcycle2": 138714,
         "baseline_motorcycle3": "nan",
         "update_motorcycle3": "nan",
         "baseline_motorcycle4": 57237,
         "update_motorcycle4": 84566,
         "motorcycle_count": 3,
         "_deepnote_index_column": 13466
        },
        {
         "condition": "Sign Top",
         "baseline_motorcycle1": 60746,
         "update_motorcycle1": 96253,
         "baseline_motorcycle2": 75219,
         "update_motorcycle2": 98352,
         "baseline_motorcycle3": "nan",
         "update_motorcycle3": "nan",
         "baseline_motorcycle4": "nan",
         "update_motorcycle4": "nan",
         "motorcycle_count": 2,
         "_deepnote_index_column": 13467
        },
        {
         "condition": "Sign Bottom",
         "baseline_motorcycle1": 15301,
         "update_motorcycle1": 53807,
         "baseline_motorcycle2": "nan",
         "update_motorcycle2": "nan",
         "baseline_motorcycle3": "nan",
         "update_motorcycle3": "nan",
         "baseline_motorcycle4": "nan",
         "update_motorcycle4": "nan",
         "motorcycle_count": 1,
         "_deepnote_index_column": 13468
        },
        {
         "condition": "Sign Bottom",
         "baseline_motorcycle1": 135260,
         "update_motorcycle1": 181200,
         "baseline_motorcycle2": "nan",
         "update_motorcycle2": "nan",
         "baseline_motorcycle3": "nan",
         "update_motorcycle3": "nan",
         "baseline_motorcycle4": "nan",
         "update_motorcycle4": "nan",
         "motorcycle_count": 1,
         "_deepnote_index_column": 13469
        },
        {
         "condition": "Sign Top",
         "baseline_motorcycle1": 88779,
         "update_motorcycle1": 123286,
         "baseline_motorcycle2": 50714,
         "update_motorcycle2": 72763,
         "baseline_motorcycle3": "nan",
         "update_motorcycle3": "nan",
         "baseline_motorcycle4": "nan",
         "update_motorcycle4": "nan",
         "motorcycle_count": 2,
         "_deepnote_index_column": 13470
        },
        {
         "condition": "Sign Bottom",
         "baseline_motorcycle1": 143885,
         "update_motorcycle1": 149071,
         "baseline_motorcycle2": 172000,
         "update_motorcycle2": 188581,
         "baseline_motorcycle3": "nan",
         "update_motorcycle3": "nan",
         "baseline_motorcycle4": "nan",
         "update_motorcycle4": "nan",
         "motorcycle_count": 2,
         "_deepnote_index_column": 13471
        },
        {
         "condition": "Sign Top",
         "baseline_motorcycle1": 46000,
         "update_motorcycle1": 91161,
         "baseline_motorcycle2": "nan",
         "update_motorcycle2": "nan",
         "baseline_motorcycle3": "nan",
         "update_motorcycle3": "nan",
         "baseline_motorcycle4": "nan",
         "update_motorcycle4": "nan",
         "motorcycle_count": 1,
         "_deepnote_index_column": 13472
        },
        {
         "condition": "Sign Bottom",
         "baseline_motorcycle1": 121024,
         "update_motorcycle1": 165396,
         "baseline_motorcycle2": "nan",
         "update_motorcycle2": "nan",
         "baseline_motorcycle3": "nan",
         "update_motorcycle3": "nan",
         "baseline_motorcycle4": 4000,
         "update_motorcycle4": 45390,
         "motorcycle_count": 2,
         "_deepnote_index_column": 13473
        },
        {
         "condition": "Sign Bottom",
         "baseline_motorcycle1": 123505,
         "update_motorcycle1": 143009,
         "baseline_motorcycle2": "nan",
         "update_motorcycle2": "nan",
         "baseline_motorcycle3": "nan",
         "update_motorcycle3": "nan",
         "baseline_motorcycle4": "nan",
         "update_motorcycle4": "nan",
         "motorcycle_count": 1,
         "_deepnote_index_column": 13474
        },
        {
         "condition": "Sign Top",
         "baseline_motorcycle1": 16,
         "update_motorcycle1": 1489,
         "baseline_motorcycle2": "nan",
         "update_motorcycle2": "nan",
         "baseline_motorcycle3": "nan",
         "update_motorcycle3": "nan",
         "baseline_motorcycle4": "nan",
         "update_motorcycle4": "nan",
         "motorcycle_count": 1,
         "_deepnote_index_column": 13475
        },
        {
         "condition": "Sign Top",
         "baseline_motorcycle1": 110366,
         "update_motorcycle1": 118707,
         "baseline_motorcycle2": 23118,
         "update_motorcycle2": 61993,
         "baseline_motorcycle3": "nan",
         "update_motorcycle3": "nan",
         "baseline_motorcycle4": "nan",
         "update_motorcycle4": "nan",
         "motorcycle_count": 2,
         "_deepnote_index_column": 13476
        },
        {
         "condition": "Sign Top",
         "baseline_motorcycle1": 0,
         "update_motorcycle1": 3630,
         "baseline_motorcycle2": "nan",
         "update_motorcycle2": "nan",
         "baseline_motorcycle3": "nan",
         "update_motorcycle3": "nan",
         "baseline_motorcycle4": "nan",
         "update_motorcycle4": "nan",
         "motorcycle_count": 1,
         "_deepnote_index_column": 13477
        },
        {
         "condition": "Sign Bottom",
         "baseline_motorcycle1": 100467,
         "update_motorcycle1": 117836,
         "baseline_motorcycle2": "nan",
         "update_motorcycle2": "nan",
         "baseline_motorcycle3": 20,
         "update_motorcycle3": 32650,
         "baseline_motorcycle4": "nan",
         "update_motorcycle4": "nan",
         "motorcycle_count": 2,
         "_deepnote_index_column": 13478
        },
        {
         "condition": "Sign Top",
         "baseline_motorcycle1": 250,
         "update_motorcycle1": 10476,
         "baseline_motorcycle2": "nan",
         "update_motorcycle2": "nan",
         "baseline_motorcycle3": "nan",
         "update_motorcycle3": "nan",
         "baseline_motorcycle4": "nan",
         "update_motorcycle4": "nan",
         "motorcycle_count": 1,
         "_deepnote_index_column": 13479
        },
        {
         "condition": "Sign Top",
         "baseline_motorcycle1": 121739,
         "update_motorcycle1": 152607,
         "baseline_motorcycle2": "nan",
         "update_motorcycle2": "nan",
         "baseline_motorcycle3": "nan",
         "update_motorcycle3": "nan",
         "baseline_motorcycle4": "nan",
         "update_motorcycle4": "nan",
         "motorcycle_count": 1,
         "_deepnote_index_column": 13480
        },
        {
         "condition": "Sign Bottom",
         "baseline_motorcycle1": 59624,
         "update_motorcycle1": 71545,
         "baseline_motorcycle2": "nan",
         "update_motorcycle2": "nan",
         "baseline_motorcycle3": "nan",
         "update_motorcycle3": "nan",
         "baseline_motorcycle4": 140198,
         "update_motorcycle4": 151643,
         "motorcycle_count": 2,
         "_deepnote_index_column": 13481
        },
        {
         "condition": "Sign Top",
         "baseline_motorcycle1": 440,
         "update_motorcycle1": 17569,
         "baseline_motorcycle2": 58863,
         "update_motorcycle2": 88571,
         "baseline_motorcycle3": "nan",
         "update_motorcycle3": "nan",
         "baseline_motorcycle4": "nan",
         "update_motorcycle4": "nan",
         "motorcycle_count": 2,
         "_deepnote_index_column": 13482
        },
        {
         "condition": "Sign Bottom",
         "baseline_motorcycle1": 32050,
         "update_motorcycle1": 33346,
         "baseline_motorcycle2": "nan",
         "update_motorcycle2": "nan",
         "baseline_motorcycle3": "nan",
         "update_motorcycle3": "nan",
         "baseline_motorcycle4": "nan",
         "update_motorcycle4": "nan",
         "motorcycle_count": 1,
         "_deepnote_index_column": 13483
        },
        {
         "condition": "Sign Top",
         "baseline_motorcycle1": 20970,
         "update_motorcycle1": 61552,
         "baseline_motorcycle2": 42391,
         "update_motorcycle2": 46815,
         "baseline_motorcycle3": "nan",
         "update_motorcycle3": "nan",
         "baseline_motorcycle4": "nan",
         "update_motorcycle4": "nan",
         "motorcycle_count": 2,
         "_deepnote_index_column": 13484
        },
        {
         "condition": "Sign Top",
         "baseline_motorcycle1": 22606,
         "update_motorcycle1": 56382,
         "baseline_motorcycle2": "nan",
         "update_motorcycle2": "nan",
         "baseline_motorcycle3": "nan",
         "update_motorcycle3": "nan",
         "baseline_motorcycle4": 467,
         "update_motorcycle4": 27441,
         "motorcycle_count": 2,
         "_deepnote_index_column": 13485
        },
        {
         "condition": "Sign Bottom",
         "baseline_motorcycle1": 30700,
         "update_motorcycle1": 32916,
         "baseline_motorcycle2": 89680,
         "update_motorcycle2": 139570,
         "baseline_motorcycle3": "nan",
         "update_motorcycle3": "nan",
         "baseline_motorcycle4": "nan",
         "update_motorcycle4": "nan",
         "motorcycle_count": 2,
         "_deepnote_index_column": 13486
        },
        {
         "condition": "Sign Top",
         "baseline_motorcycle1": 29884,
         "update_motorcycle1": 35459,
         "baseline_motorcycle2": "nan",
         "update_motorcycle2": "nan",
         "baseline_motorcycle3": "nan",
         "update_motorcycle3": "nan",
         "baseline_motorcycle4": "nan",
         "update_motorcycle4": "nan",
         "motorcycle_count": 1,
         "_deepnote_index_column": 13487
        },
        {
         "condition": "Sign Top",
         "baseline_motorcycle1": 22930,
         "update_motorcycle1": 37888,
         "baseline_motorcycle2": "nan",
         "update_motorcycle2": "nan",
         "baseline_motorcycle3": "nan",
         "update_motorcycle3": "nan",
         "baseline_motorcycle4": "nan",
         "update_motorcycle4": "nan",
         "motorcycle_count": 1,
         "_deepnote_index_column": 13488
        }
       ]
      },
      "text/plain": "         condition  baseline_motorcycle1  update_motorcycle1  \\\nid                                                             \n1         Sign Top                   896               39198   \n2      Sign Bottom                 21396               63511   \n3      Sign Bottom                 21340               37460   \n4      Sign Bottom                 23912               59136   \n5      Sign Bottom                 16862               59292   \n...            ...                   ...                 ...   \n13484     Sign Top                 20970               61552   \n13485     Sign Top                 22606               56382   \n13486  Sign Bottom                 30700               32916   \n13487     Sign Top                 29884               35459   \n13488     Sign Top                 22930               37888   \n\n       baseline_motorcycle2  update_motorcycle2  baseline_motorcycle3  \\\nid                                                                      \n1                       NaN                 NaN                   NaN   \n2                   32659.0             47605.0                   NaN   \n3                   44998.0             59002.0                   NaN   \n4                       NaN                 NaN                   NaN   \n5                       NaN                 NaN                   NaN   \n...                     ...                 ...                   ...   \n13484               42391.0             46815.0                   NaN   \n13485                   NaN                 NaN                   NaN   \n13486               89680.0            139570.0                   NaN   \n13487                   NaN                 NaN                   NaN   \n13488                   NaN                 NaN                   NaN   \n\n       update_motorcycle3  baseline_motorcycle4  update_motorcycle4  \\\nid                                                                    \n1                     NaN                   NaN                 NaN   \n2                     NaN                   NaN                 NaN   \n3                     NaN                   NaN                 NaN   \n4                     NaN                   NaN                 NaN   \n5                     NaN                   NaN                 NaN   \n...                   ...                   ...                 ...   \n13484                 NaN                   NaN                 NaN   \n13485                 NaN                 467.0             27441.0   \n13486                 NaN                   NaN                 NaN   \n13487                 NaN                   NaN                 NaN   \n13488                 NaN                   NaN                 NaN   \n\n       motorcycle_count  \nid                       \n1                     1  \n2                     2  \n3                     2  \n4                     1  \n5                     1  \n...                 ...  \n13484                 2  \n13485                 2  \n13486                 2  \n13487                 1  \n13488                 1  \n\n[13488 rows x 10 columns]",
      "text/html": "<div>\n<style scoped>\n    .dataframe tbody tr th:only-of-type {\n        vertical-align: middle;\n    }\n\n    .dataframe tbody tr th {\n        vertical-align: top;\n    }\n\n    .dataframe thead th {\n        text-align: right;\n    }\n</style>\n<table border=\"1\" class=\"dataframe\">\n  <thead>\n    <tr style=\"text-align: right;\">\n      <th></th>\n      <th>condition</th>\n      <th>baseline_motorcycle1</th>\n      <th>update_motorcycle1</th>\n      <th>baseline_motorcycle2</th>\n      <th>update_motorcycle2</th>\n      <th>baseline_motorcycle3</th>\n      <th>update_motorcycle3</th>\n      <th>baseline_motorcycle4</th>\n      <th>update_motorcycle4</th>\n      <th>motorcycle_count</th>\n    </tr>\n    <tr>\n      <th>id</th>\n      <th></th>\n      <th></th>\n      <th></th>\n      <th></th>\n      <th></th>\n      <th></th>\n      <th></th>\n      <th></th>\n      <th></th>\n      <th></th>\n    </tr>\n  </thead>\n  <tbody>\n    <tr>\n      <th>1</th>\n      <td>Sign Top</td>\n      <td>896</td>\n      <td>39198</td>\n      <td>NaN</td>\n      <td>NaN</td>\n      <td>NaN</td>\n      <td>NaN</td>\n      <td>NaN</td>\n      <td>NaN</td>\n      <td>1</td>\n    </tr>\n    <tr>\n      <th>2</th>\n      <td>Sign Bottom</td>\n      <td>21396</td>\n      <td>63511</td>\n      <td>32659.0</td>\n      <td>47605.0</td>\n      <td>NaN</td>\n      <td>NaN</td>\n      <td>NaN</td>\n      <td>NaN</td>\n      <td>2</td>\n    </tr>\n    <tr>\n      <th>3</th>\n      <td>Sign Bottom</td>\n      <td>21340</td>\n      <td>37460</td>\n      <td>44998.0</td>\n      <td>59002.0</td>\n      <td>NaN</td>\n      <td>NaN</td>\n      <td>NaN</td>\n      <td>NaN</td>\n      <td>2</td>\n    </tr>\n    <tr>\n      <th>4</th>\n      <td>Sign Bottom</td>\n      <td>23912</td>\n      <td>59136</td>\n      <td>NaN</td>\n      <td>NaN</td>\n      <td>NaN</td>\n      <td>NaN</td>\n      <td>NaN</td>\n      <td>NaN</td>\n      <td>1</td>\n    </tr>\n    <tr>\n      <th>5</th>\n      <td>Sign Bottom</td>\n      <td>16862</td>\n      <td>59292</td>\n      <td>NaN</td>\n      <td>NaN</td>\n      <td>NaN</td>\n      <td>NaN</td>\n      <td>NaN</td>\n      <td>NaN</td>\n      <td>1</td>\n    </tr>\n    <tr>\n      <th>...</th>\n      <td>...</td>\n      <td>...</td>\n      <td>...</td>\n      <td>...</td>\n      <td>...</td>\n      <td>...</td>\n      <td>...</td>\n      <td>...</td>\n      <td>...</td>\n      <td>...</td>\n    </tr>\n    <tr>\n      <th>13484</th>\n      <td>Sign Top</td>\n      <td>20970</td>\n      <td>61552</td>\n      <td>42391.0</td>\n      <td>46815.0</td>\n      <td>NaN</td>\n      <td>NaN</td>\n      <td>NaN</td>\n      <td>NaN</td>\n      <td>2</td>\n    </tr>\n    <tr>\n      <th>13485</th>\n      <td>Sign Top</td>\n      <td>22606</td>\n      <td>56382</td>\n      <td>NaN</td>\n      <td>NaN</td>\n      <td>NaN</td>\n      <td>NaN</td>\n      <td>467.0</td>\n      <td>27441.0</td>\n      <td>2</td>\n    </tr>\n    <tr>\n      <th>13486</th>\n      <td>Sign Bottom</td>\n      <td>30700</td>\n      <td>32916</td>\n      <td>89680.0</td>\n      <td>139570.0</td>\n      <td>NaN</td>\n      <td>NaN</td>\n      <td>NaN</td>\n      <td>NaN</td>\n      <td>2</td>\n    </tr>\n    <tr>\n      <th>13487</th>\n      <td>Sign Top</td>\n      <td>29884</td>\n      <td>35459</td>\n      <td>NaN</td>\n      <td>NaN</td>\n      <td>NaN</td>\n      <td>NaN</td>\n      <td>NaN</td>\n      <td>NaN</td>\n      <td>1</td>\n    </tr>\n    <tr>\n      <th>13488</th>\n      <td>Sign Top</td>\n      <td>22930</td>\n      <td>37888</td>\n      <td>NaN</td>\n      <td>NaN</td>\n      <td>NaN</td>\n      <td>NaN</td>\n      <td>NaN</td>\n      <td>NaN</td>\n      <td>1</td>\n    </tr>\n  </tbody>\n</table>\n<p>13488 rows × 10 columns</p>\n</div>"
     },
     "metadata": {}
    }
   ]
  },
  {
   "cell_type": "code",
   "metadata": {
    "deepnote_to_be_reexecuted": false,
    "execution_millis": 58,
    "execution_start": 1634805505204,
    "source_hash": "fc7debbf",
    "tags": [],
    "cell_id": "00006-d3d2e46c-8b34-4fd9-af3b-7613c2d9b540",
    "deepnote_cell_type": "code",
    "pycharm": {
     "name": "#%%\n"
    }
   },
   "source": [
    "# baseline and updated kilometrages columns\n",
    "baselines = ['baseline_motorcycle1', 'baseline_motorcycle2', 'baseline_motorcycle3', 'baseline_motorcycle4']\n",
    "updates = ['update_motorcycle1', 'update_motorcycle2', 'update_motorcycle3', 'update_motorcycle4']\n",
    "\n",
    "# Wong colorblind-safe palette\n",
    "colours = [\"#000000\", \"#E69F00\", \"#56B4E9\", \"#009E73\", \"#F0E442\", \"#0072B2\", \"#D55E00\", \"#CC79A7\"]"
   ],
   "execution_count": 4,
   "outputs": []
  },
  {
   "cell_type": "code",
   "metadata": {
    "deepnote_to_be_reexecuted": false,
    "execution_millis": 1,
    "execution_start": 1634805505262,
    "source_hash": "ae4a868d",
    "cell_id": "00007-a38ae56d-ce7d-49fb-b4e2-89a17fa64623",
    "deepnote_cell_type": "code",
    "pycharm": {
     "name": "#%%\n"
    }
   },
   "source": [
    "# 2.2 Dropping anomalous rows: number of motorcycles should be the same across \n",
    "# motorcycle_count, baseline_motorcycle, and update_motorcycle\n",
    "\n",
    "# count baseline values and updated values\n",
    "dataframe['baseline_count'] = dataframe[baselines].count(axis = 1)\n",
    "dataframe['update_count'] = dataframe[updates].count(axis = 1)\n",
    "\n",
    "# keep rows where count is equal to the motorcycle_count provided\n",
    "dataframe = dataframe[(dataframe[\"motorcycle_count\"] == dataframe[\"baseline_count\"]) & (dataframe[\"motorcycle_count\"] == dataframe[\"update_count\"])]\n",
    "dataframe = dataframe.drop(['baseline_count', 'update_count'], axis = 1)"
   ],
   "execution_count": 5,
   "outputs": []
  },
  {
   "cell_type": "code",
   "metadata": {
    "allow_embed": false,
    "deepnote_to_be_reexecuted": false,
    "execution_millis": 11970,
    "execution_start": 1634805505263,
    "source_hash": "e5d1d445",
    "cell_id": "00008-40707552-6bf5-4db6-86ff-969d380b2fcc",
    "deepnote_cell_type": "code",
    "pycharm": {
     "name": "#%%\n"
    }
   },
   "source": [
    "# 2.3a Calculating mean and median of each column and visualizing data\n",
    "# interleave the columns \n",
    "\n",
    "def plot_all_kilometrages(title):\n",
    "    \"\"\"\n",
    "    Plots histograms of all 4 baseline and updated kilometrages.\n",
    "    \"\"\"\n",
    "    kilo_cols = [val for pair in zip(baselines, updates) for val in pair]\n",
    "    kilometrages = dataframe[kilo_cols]\n",
    "\n",
    "    mean = kilometrages.mean(axis = 0)\n",
    "    median = kilometrages.median(axis = 0)\n",
    "\n",
    "    fig, axs = plt.subplots(4,2, sharex = True, sharey = True, figsize = (20,10))\n",
    "    fig.suptitle(title, fontsize=16)\n",
    "\n",
    "    for i, ax in enumerate(axs.flat):\n",
    "        data = dataframe[kilo_cols[i]].values\n",
    "        ax.hist(data, color = colours[i], bins=np.logspace(0, np.log10(10**7), 100))\n",
    "        ax.set_xscale('log')\n",
    "        ax.set_yscale('log')    \n",
    "        \n",
    "        ax.set_title(kilo_cols[i])\n",
    "        ax.axvline(mean[i], color = 'green', label = f\"mean: {np.round(mean[i], 1)}\")\n",
    "        ax.axvline(median[i], color = 'red', label = f\"median: {np.round(median[i], 1)}\")\n",
    "        ax.legend()\n",
    "\n",
    "    fig.supxlabel(\"Kilometers\")\n",
    "    fig.supylabel(\"Frequency\")\n",
    "\n",
    "plot_all_kilometrages(title='Data with outliers')"
   ],
   "execution_count": 6,
   "outputs": [
    {
     "data": {
      "text/plain": "<Figure size 1440x720 with 8 Axes>",
      "image/png": "[encoded data removed]"
     },
     "metadata": {
      "needs_background": "light",
      "image/png": {
       "width": 1281,
       "height": 712
      }
     },
     "output_type": "display_data"
    }
   ]
  },
  {
   "cell_type": "code",
   "metadata": {
    "deepnote_to_be_reexecuted": false,
    "execution_millis": 17206,
    "execution_start": 1634805517289,
    "source_hash": "8ed09792",
    "cell_id": "00009-c770677a-3283-4bbc-b6db-cd30dcb3c956",
    "deepnote_cell_type": "code",
    "pycharm": {
     "name": "#%%\n"
    }
   },
   "source": [
    "# 2.3b Dropping outliers, data inside 1-percent quantile and outside 99-percent quantile, and visualizing data\n",
    "\n",
    "def remove_outliers(df, cols, bottom_percentile, upper_percentile):\n",
    "    \"\"\"\n",
    "    In the given DataFrame, remove rows where the specified column values don't fall between the percentile bounds.\n",
    "    \"\"\"\n",
    "    Q1 = df[cols].quantile(bottom_percentile)\n",
    "    Q3 = df[cols].quantile(upper_percentile)\n",
    "    IQR = Q3 - Q1\n",
    "\n",
    "    df = df[~((df[cols] < (Q1 - 1.5 * IQR)) |(df[cols] > (Q3 + 1.5 * IQR))).any(axis=1)]\n",
    "    return df\n",
    "    \n",
    "\n",
    "dataframe = remove_outliers(dataframe, baselines+updates,0.01,0.99)\n",
    "\n",
    "plot_all_kilometrages(title='Data without outliers')"
   ],
   "execution_count": 7,
   "outputs": [
    {
     "data": {
      "text/plain": "<Figure size 1440x720 with 8 Axes>",
      "image/png": "[encoded data removed]"
     },
     "metadata": {
      "needs_background": "light",
      "image/png": {
       "width": 1281,
       "height": 712
      }
     },
     "output_type": "display_data"
    }
   ]
  },
  {
   "cell_type": "markdown",
   "source": [
    "### 2.4\n",
    "Since the outliers are only a few and their values are extreme, it would be better to represent data with the median, as it is less influenced by the value of those outliers (more robust).\n"
   ],
   "metadata": {
    "deepnote_to_be_reexecuted": false,
    "execution_millis": 1,
    "execution_start": 1633966912539,
    "source_hash": "dd0d7a77",
    "cell_id": "00010-703d4257-8af8-4df7-a0b1-a1988ca223b1",
    "deepnote_cell_type": "markdown",
    "pycharm": {
     "name": "#%% md\n"
    }
   }
  },
  {
   "cell_type": "markdown",
   "source": [
    "### Task 3 — 12pts\n",
    "\n",
    "One of the challenges with the current data is that it is not clear how to handle policies with multiple motorcycles.\n",
    "\n",
    "1. Create three additional columns in the dataframe, `baseline_average`, `update_average`, and `diff_average`. These \n",
    "    should contain, respectively, the average value for `baseline_motorcycle[1-4]` for all motorcycles insured; the average\n",
    "    value for `update_motorcycle[1-4]`; and the difference between the average updated value and the average baseline \n",
    "    value.\n",
    "2. **Discuss:** Propose another way of aggregating distinct motorcycles from a single policy. Point out a way in which \n",
    "    this aggregation may be either better or worse than taking the average for the purpose of comparing the two scenarios in\n",
    "    the study (sign at the top vs. sign at the bottom).\n",
    "3. To get a sense of the impact that policies with multiple motorcycles may have in the study, let's perform some \n",
    "    additional analyses. Plot the distribution of motorcycles per policy in the data. Your plot should allow for the \n",
    "    meaningful comparison of the values shown.\n",
    "4. In 3.1, you calculated the average kilometrage for each policy for the updated contract. Calculate the mean and the \n",
    "    standard deviation of these values (which should be in the column `update_average`).\n",
    "5. Another meaningful metric is the average kilometrage **per motorcycle**, not distinguishing motorcycles in different \n",
    "    policies (i.e., pooled across policies). **Considering only policies with 4 motorcycles insured,** calculate the mean \n",
    "    and the standard deviation of the kilometrage per motorcycle in the updated contract.\n",
    "6. **Discuss:** To analyze whether signing at the top decreases dishonesty, we could consider the data in different \n",
    "    ways. We could first calculate the average value per motorcycle within each policy and have one data point per policy **or** we could analyze the data at the motorcycle level and have one data point per motorcycle in the dataset. \n",
    "    According to questions 3.4 and 3.5, how may this decision influence the results of the study?\n",
    "---"
   ],
   "metadata": {
    "cell_id": "00011-7735aeaa-0d2b-435e-a92a-23954915ad8d",
    "deepnote_cell_type": "markdown",
    "pycharm": {
     "name": "#%% md\n"
    }
   }
  },
  {
   "cell_type": "code",
   "metadata": {
    "deepnote_to_be_reexecuted": false,
    "execution_millis": 22,
    "execution_start": 1634805534502,
    "source_hash": "aa541137",
    "cell_id": "00012-d6054c4c-55bd-4adc-8918-4ec089cf93e5",
    "deepnote_cell_type": "code",
    "pycharm": {
     "name": "#%%\n"
    }
   },
   "source": [
    "# 3.1 Creating additional columns\n",
    "dataframe['baseline_average'] = dataframe[baselines].mean(axis = 1)\n",
    "dataframe['update_average'] = dataframe[updates].mean(axis = 1)\n",
    "dataframe['diff_average'] = dataframe['update_average'] - dataframe['baseline_average']"
   ],
   "execution_count": 8,
   "outputs": []
  },
  {
   "cell_type": "markdown",
   "source": [
    "### 3.2  \n",
    "We could calculate the median value for both baseline and update average. Median could be better because,as stated before, it would be more robust to outliers and, calculating the average of the medians would give more significant values. In this case  though, outliers have already been removed so it wouldn't make much difference. \n",
    "Another kind of aggregation might be the difference between the sum of updated values and the sum of baseline values. This gives the actual amount of kilometres percurred in a year by the person interested by the insurance policy. Results aren't much different, but if previously the difference between signed at the top and signed at the bottom averages in updated policies was 2427, now it increased to 3327. This gives us an even stronger proof that signed at the bottom documents have lower kilometrage's values. "
   ],
   "metadata": {
    "deepnote_to_be_reexecuted": false,
    "execution_millis": 0,
    "execution_start": 1633966912586,
    "source_hash": "b8086366",
    "cell_id": "00013-6f2b425c-54da-4c38-90b3-1c25aa54dce1",
    "deepnote_cell_type": "markdown",
    "pycharm": {
     "name": "#%% md\n"
    }
   }
  },
  {
   "cell_type": "code",
   "metadata": {
    "deepnote_to_be_reexecuted": false,
    "execution_millis": 75,
    "execution_start": 1634805534532,
    "source_hash": "9f756bd8",
    "tags": [],
    "cell_id": "00014-f04ba5a3-8965-4003-8358-db55628bcac2",
    "deepnote_cell_type": "code",
    "pycharm": {
     "name": "#%%\n"
    }
   },
   "source": [
    "#3.2 proof\n",
    "dataframe['diff_sum']= abs(dataframe[updates].sum(axis=1)-dataframe[baselines].sum(axis=1))\n",
    "print(dataframe.groupby('condition').agg('mean')['diff_sum'])\n",
    "print(dataframe.groupby('condition').agg('mean')['diff_average'])\n",
    "dataframe=dataframe.drop('diff_sum', axis= 1)"
   ],
   "execution_count": 9,
   "outputs": [
    {
     "name": "stdout",
     "text": "condition\nSign Bottom    36677.924545\nSign Top       40004.264995\nName: diff_sum, dtype: float64\ncondition\nSign Bottom    23673.122877\nSign Top       26100.566078\nName: diff_average, dtype: float64\n",
     "output_type": "stream"
    }
   ]
  },
  {
   "cell_type": "code",
   "metadata": {
    "deepnote_to_be_reexecuted": false,
    "execution_millis": 361,
    "execution_start": 1634805534611,
    "source_hash": "6cc3af90",
    "cell_id": "00015-683e514d-845e-4119-83bd-18595a363ba2",
    "deepnote_cell_type": "code",
    "pycharm": {
     "name": "#%%\n"
    }
   },
   "source": [
    "# 3.3 Distribution of number of motorcycles\n",
    "axs = dataframe['motorcycle_count'].value_counts().plot.bar();\n",
    "plt.title(\"Insured motorcycles per policy\")\n",
    "axs.set_xlabel(\"Motorcycle number\")\n",
    "axs.set_ylabel(\"Frequency\");"
   ],
   "execution_count": 10,
   "outputs": [
    {
     "data": {
      "text/plain": "<Figure size 432x288 with 1 Axes>",
      "image/png": "[encoded data removed]"
     },
     "metadata": {
      "needs_background": "light",
      "image/png": {
       "width": 395,
       "height": 275
      }
     },
     "output_type": "display_data"
    }
   ]
  },
  {
   "cell_type": "code",
   "metadata": {
    "deepnote_to_be_reexecuted": false,
    "execution_millis": 17,
    "execution_start": 1634805534976,
    "source_hash": "bc7631f1",
    "tags": [],
    "cell_id": "00016-f07e408f-15ee-4a6d-9aa1-c155daa8e64d",
    "deepnote_cell_type": "code",
    "pycharm": {
     "name": "#%%\n"
    }
   },
   "source": [
    "# 3.4 Calculating mean and standard deviation for average kilometrage per updated policy\n",
    "update_average_mean, update_average_sd = dataframe['update_average'].agg(['mean', 'std'])\n",
    "\n",
    "print(f\"\"\"Average kilometrage per updated policy -\n",
    "    mean: {update_average_mean:.0f} km\n",
    "    sd: {update_average_sd:.0f} km\n",
    "    normalized_sd: \"\"\" + str(update_average_sd/update_average_mean))"
   ],
   "execution_count": 11,
   "outputs": [
    {
     "name": "stdout",
     "text": "Average kilometrage per updated policy -\n    mean: 91721 km\n    sd: 49860 km\n    normalized_sd: 0.5436077467063912\n",
     "output_type": "stream"
    }
   ]
  },
  {
   "cell_type": "code",
   "metadata": {
    "deepnote_to_be_reexecuted": false,
    "execution_millis": 32,
    "execution_start": 1634805535001,
    "source_hash": "212db04b",
    "tags": [],
    "cell_id": "00017-22a60d2c-3adc-4885-8aa9-c9c71e7b0bcd",
    "deepnote_cell_type": "code",
    "pycharm": {
     "name": "#%%\n"
    }
   },
   "source": [
    "# 3.5 Calculating mean and standard deviation for kilometrage per motorcycle (considering updated policies with 4 motorcycles only)\n",
    "kilometrage_mean, kilometrage_sd = dataframe[dataframe['motorcycle_count'] == 4][updates].agg(['mean', 'std']).values\n",
    "\n",
    "for i, (mn, sd) in enumerate(zip(kilometrage_mean, kilometrage_sd)):\n",
    "    print(f\"\"\"Average kilometrage motorcycle {i+1} -\n",
    "    mean: {mn :.0f} km\n",
    "    sd: {sd :.0f} km\n",
    "    normalized_sd: \"\"\" + str(sd/mn))\n",
    "    "
   ],
   "execution_count": 12,
   "outputs": [
    {
     "name": "stdout",
     "text": "Average kilometrage motorcycle 1 -\n    mean: 67635 km\n    sd: 42535 km\n    normalized_sd: 0.6288919596617312\nAverage kilometrage motorcycle 2 -\n    mean: 121408 km\n    sd: 74218 km\n    normalized_sd: 0.6113129874621938\nAverage kilometrage motorcycle 3 -\n    mean: 103314 km\n    sd: 64274 km\n    normalized_sd: 0.6221203642074731\nAverage kilometrage motorcycle 4 -\n    mean: 129108 km\n    sd: 45750 km\n    normalized_sd: 0.3543531044069662\n",
     "output_type": "stream"
    }
   ]
  },
  {
   "cell_type": "markdown",
   "source": [
    "### 3.6\n",
    "Considering one data point per policy is better, since we obtain more homogeneous data with a lower standard deviation.\n",
    "\n",
    "Looking at values from question __3.5__ doesn't make sense because they are calculated considering only policies with 4 motorcycles,which constitute only a small part of the dataset (as we can see in question __3.3__). If we calculate the same values considering all policies we obtain similar averages and similar standard deviations, all higher than the standard deviation obtained by consider one data point per policy.\n",
    " \n",
    "We might instead divide the policies into four populations, based on `motorcycle_count`. This way we can then calculate the average difference between updated policies and baseline ones, dividing the result among signing position of the updated policies. Dividing the data into four populations considering one data point per motorcycle is also worse because populations wouldn't be independent, since kilometrage values of motorcycles from the same policy are all from the same document with the same signing position.  \n",
    "\n",
    "On the other hand, this decision would probably not influence the result of the study, since both ways prove that signed at the top documents have always sligthly lower values."
   ],
   "metadata": {
    "tags": [],
    "cell_id": "00018-fc0670d6-1518-4f60-921e-0c0f2cba52e3",
    "deepnote_cell_type": "markdown",
    "pycharm": {
     "name": "#%% md\n"
    }
   }
  },
  {
   "cell_type": "code",
   "metadata": {
    "deepnote_to_be_reexecuted": false,
    "execution_millis": 288,
    "execution_start": 1634805535043,
    "source_hash": "97f543f8",
    "tags": [],
    "cell_id": "00019-e5f46fb7-92dd-40a1-92da-eb45100c42b7",
    "deepnote_cell_type": "code",
    "pycharm": {
     "name": "#%%\n"
    }
   },
   "source": [
    "#proof and calculus to support 3.6\n",
    "kilometrage_mean, kilometrage_sd = dataframe[updates].agg(['mean', 'std']).values\n",
    "for i, (mn, sd) in enumerate(zip(kilometrage_mean, kilometrage_sd)):\n",
    "    print(f\"\"\"Average kilometrage motorcycle {i+1} -\n",
    "    mean: {mn :.0f} km\n",
    "    sd: {sd :.0f} km\n",
    "    normalized_sd: \"\"\" + str(sd/mn))\n",
    "policy_type = [\"Sign Bottom\", \"Sign Top\"]\n",
    "\n",
    "print(dataframe.groupby(['condition','motorcycle_count']).agg('mean')['diff_average'])\n",
    "dataframe['diff_of_1']= dataframe[updates[0]]-dataframe[baselines[0]]\n",
    "print(dataframe.groupby('condition').agg('mean')['diff_of_1'])\n",
    "dataframe['diff_of_2']= dataframe[updates[1]]-dataframe[baselines[1]]\n",
    "print(dataframe.groupby('condition').agg('mean')['diff_of_2'])\n",
    "dataframe['diff_of_3']= dataframe[updates[2]]-dataframe[baselines[2]]\n",
    "print(dataframe.groupby('condition').agg('mean')['diff_of_3'])\n",
    "dataframe['diff_of_4']= dataframe[updates[3]]-dataframe[baselines[3]]\n",
    "print(dataframe.groupby('condition').agg('mean')['diff_of_4'])\n",
    "\n"
   ],
   "execution_count": 13,
   "outputs": [
    {
     "name": "stdout",
     "text": "Average kilometrage motorcycle 1 -\n    mean: 91934 km\n    sd: 56558 km\n    normalized_sd: 0.6152009067934034\nAverage kilometrage motorcycle 2 -\n    mean: 91338 km\n    sd: 55240 km\n    normalized_sd: 0.604786183154566\nAverage kilometrage motorcycle 3 -\n    mean: 91306 km\n    sd: 57938 km\n    normalized_sd: 0.6345414902225907\nAverage kilometrage motorcycle 4 -\n    mean: 92753 km\n    sd: 55957 km\n    normalized_sd: 0.603292239900256\ncondition    motorcycle_count\nSign Bottom  1                   23276.944780\n             2                   24048.274373\n             3                   24602.005479\n             4                   23282.476190\nSign Top     1                   26179.650279\n             2                   26037.316445\n             3                   25802.350638\n             4                   26405.964286\nName: diff_average, dtype: float64\ncondition\nSign Bottom    23622.255073\nSign Top       26211.199589\nName: diff_of_1, dtype: float64\ncondition\nSign Bottom    24151.039928\nSign Top       25751.245884\nName: diff_of_2, dtype: float64\ncondition\nSign Bottom    24884.054773\nSign Top       25487.075949\nName: diff_of_3, dtype: float64\ncondition\nSign Bottom    23283.945122\nSign Top       27670.462500\nName: diff_of_4, dtype: float64\n",
     "output_type": "stream"
    }
   ]
  },
  {
   "cell_type": "markdown",
   "source": [
    "### Task 4 — 18pts\n",
    "\n",
    "Now that we have compressed the kilometrage reported in each contract into a single number, it is time to analyze the \n",
    "million-dollar question: ***does signing at the top decrease dishonesty?***\n",
    "\n",
    "1. Considering the updated contracts, calculate the mean and the standard deviation of the average kilometrage in \n",
    "    1. policies where the signing was done at the bottom; and \n",
    "    2. policies where the signing was done at the top. Additionally, plot the two kilometrage distributions.\n",
    "2. Determine whether the difference between the two scenarios mentioned in 1. is statistically significant.\n",
    "3. **Discuss:** Recall that the assignment of the different contracts (*sign at the top* vs. *sign at the bottom*) was \n",
    "    done at random. According to the results in 1. and 2., does signing at the top decrease dishonesty? \n",
    "4.  **Discuss:** Given that no intervention was performed in the baseline contract (i.e., everyone signed at the \n",
    "    bottom). Would you expect any differences between the average values between *sign at the top* vs. *sign at the bottom*\n",
    "    conditions for the baseline contract? Note that this is related to columns `baseline_motorcycle[1-4]`.\n",
    "5. Calculate the mean and the standard deviation for the baseline contracts of the two groups (sign at the top vs. sign \n",
    "    at the bottom). Additionally, plot the two kilometrage distributions.\n",
    "6. Determine whether the difference between the two scenarios mentioned in 5. is statistically significant.\n",
    "\n",
    "---\n",
    "\n",
    "**Hint:** Recall that the column `condition` encodes the experimental condition in which the customer fell when \n",
    "reporting the values shown in columns `update_motorcycle[1-4]`!\n",
    "\n",
    "**Hint:** To determine if the means of two sets of data are significantly different from each other, you may want to use\n",
    " the `ttest_ind` function implemented in the \n",
    " [scipy library](https://docs.scipy.org/doc/scipy/reference/generated/scipy.stats.ttest_ind.html). To learn more about \n",
    " Student's t-test, check out this [Wikipedia page](https://en.wikipedia.org/wiki/Student%27s_t-test)."
   ],
   "metadata": {
    "cell_id": "00020-42317c61-9ed3-4eaa-bba5-03bef4347631",
    "deepnote_cell_type": "markdown",
    "pycharm": {
     "name": "#%% md\n"
    }
   }
  },
  {
   "cell_type": "code",
   "metadata": {
    "deepnote_to_be_reexecuted": false,
    "execution_millis": 1,
    "execution_start": 1634805535183,
    "source_hash": "463c23b0",
    "tags": [],
    "cell_id": "00021-6267b3b7-83aa-4823-80e4-2942cd26ad6a",
    "deepnote_cell_type": "code",
    "pycharm": {
     "name": "#%%\n"
    }
   },
   "source": [
    "def plot_mean_std(ax, mean, std):\n",
    "    \"\"\"\n",
    "    Adds the mean and standard deviation lines to the given axes of a plot.\n",
    "    \"\"\"\n",
    "    lower, upper = mean - std, mean + std\n",
    "    ax.axvspan(lower, upper, alpha=0.15, color='red')\n",
    "    ax.axvline(lower, linestyle = \"--\", color = 'red', label = 'mean - std: '+ str(np.round(lower, 1)))\n",
    "    ax.axvline(upper, linestyle = \"--\", color = 'red', label = 'mean + std: '+ str(np.round(upper, 1)))\n",
    "    ax.axvline(mean, color = 'orange', label = 'mean: '+ str(np.round(mean, 1)))"
   ],
   "execution_count": 14,
   "outputs": []
  },
  {
   "cell_type": "code",
   "metadata": {
    "deepnote_to_be_reexecuted": false,
    "execution_millis": 2542,
    "execution_start": 1634805535185,
    "source_hash": "9449bf3d",
    "cell_id": "00022-d08c269e-353e-4f5c-a137-7029208473b9",
    "deepnote_cell_type": "code",
    "pycharm": {
     "name": "#%%\n"
    }
   },
   "source": [
    "# 4.1 mean and std for average kilometrage per updated policy and seperated on condition\n",
    "\n",
    "policy_type = [\"Sign Bottom\", \"Sign Top\"]\n",
    "\n",
    "# for each condition, aggregate the mean and standard deviation of the average kilometrage per updated policy\n",
    "mean, std = dataframe.groupby('condition')['update_average'].agg(['mean', 'std']).T.values\n",
    "\n",
    "fig, axs = plt.subplots(1,2, sharex = True, sharey = True, figsize = (10,5))\n",
    "fig.suptitle('Average kilometrage per updated policy', fontsize=16)\n",
    "\n",
    "for i, ax in enumerate(axs.flat):\n",
    "    ax.hist(dataframe[dataframe['condition'] == policy_type[i]]['update_average'].values, bins = 100, color = colours[i+1])\n",
    "    ax.set_yscale('log')\n",
    "    ax.set_title(policy_type[i])\n",
    "    \n",
    "    # plot std as a range around the mean\n",
    "    plot_mean_std(ax, mean[i], std[i])\n",
    "    ax.legend()\n",
    "\n",
    "\n",
    "\n",
    "fig.supxlabel(\"Kilometers\")\n",
    "fig.supylabel(\"Frequency\");"
   ],
   "execution_count": 15,
   "outputs": [
    {
     "data": {
      "text/plain": "<Figure size 720x360 with 2 Axes>",
      "image/png": "[encoded data removed]"
     },
     "metadata": {
      "needs_background": "light",
      "image/png": {
       "width": 649,
       "height": 363
      }
     },
     "output_type": "display_data"
    }
   ]
  },
  {
   "cell_type": "code",
   "metadata": {
    "deepnote_to_be_reexecuted": false,
    "execution_millis": 4,
    "execution_start": 1634805537818,
    "source_hash": "deedd08e",
    "tags": [],
    "cell_id": "00023-96c4be15-8a87-4595-9c28-cdd1858bde51",
    "deepnote_cell_type": "code",
    "pycharm": {
     "name": "#%%\n"
    }
   },
   "source": [
    "# 4.2 Testing if the two independent datasets of 'updated contract kilometrage' have identical average values using the ttest_ind function from scipy\n",
    "from scipy.stats import ttest_ind\n",
    "\n",
    "ttest_ind(\n",
    "    dataframe[dataframe['condition'] == policy_type[0]]['update_average'].values,\n",
    "    dataframe[dataframe['condition'] == policy_type[1]]['update_average'].values\n",
    "    )"
   ],
   "execution_count": 16,
   "outputs": [
    {
     "output_type": "execute_result",
     "execution_count": 16,
     "data": {
      "text/plain": "Ttest_indResult(statistic=14.925373355138145, pvalue=5.650578748070613e-50)"
     },
     "metadata": {}
    }
   ]
  },
  {
   "cell_type": "markdown",
   "source": [
    "### 4.2 \n",
    "`p_value` is less than 0.05, therefore we reject the null hypothesis that the kilometrages are the same, there is a significant difference."
   ],
   "metadata": {
    "tags": [],
    "cell_id": "00024-541b6a76-828e-4f06-a73b-bbf9f3acd04b",
    "deepnote_cell_type": "markdown",
    "pycharm": {
     "name": "#%% md\n"
    }
   }
  },
  {
   "cell_type": "markdown",
   "source": [
    "### 4.3\n",
    "The `p_value` is less than 0.05, therefore we can reject the null hypothesis that the kilometrages are the same. This means that there is a significant difference between the two populations.\n",
    "\n",
    "Considering this and that contracts signed at the bottom have a remarkable higher kilometrage, we can assume that signing at the top does indeed decrease dishonesty."
   ],
   "metadata": {
    "tags": [],
    "cell_id": "00025-f9aed3bb-139a-444d-994b-92c5ded3b269",
    "deepnote_cell_type": "markdown",
    "pycharm": {
     "name": "#%% md\n"
    }
   }
  },
  {
   "cell_type": "markdown",
   "source": [
    "### 4.4\n",
    "We would expect a statistically insignificant difference in the average kilometrage among the baseline contracts, since the Signed Bot vs Signed Top difference didn't exist in those contracts, i.e. they should be part of the same population."
   ],
   "metadata": {
    "tags": [],
    "cell_id": "00026-a27585ab-d0d6-4344-b8b8-c6807882f147",
    "deepnote_cell_type": "markdown",
    "pycharm": {
     "name": "#%% md\n"
    }
   }
  },
  {
   "cell_type": "code",
   "metadata": {
    "deepnote_to_be_reexecuted": false,
    "execution_millis": 2594,
    "execution_start": 1634805537819,
    "source_hash": "2b935aed",
    "tags": [],
    "cell_id": "00027-2ac66a32-0afb-455b-8771-9548be7b390f",
    "deepnote_cell_type": "code",
    "pycharm": {
     "name": "#%%\n"
    }
   },
   "source": [
    "# 4.5 mean and std for average kilometrage per baseline policy and seperated on condition\n",
    "\n",
    "policy_type = [\"Sign Bottom\", \"Sign Top\"]\n",
    "\n",
    "# for each condition, aggregare the mean and standard deviation of the average baseline kilometrage per contract\n",
    "mean, std = dataframe.groupby('condition')['baseline_average'].agg(['mean', 'std']).T.values\n",
    "\n",
    "fig, axs = plt.subplots(1,2, sharex = True, sharey = True, figsize = (10,5))\n",
    "fig.suptitle('Average kilometrage per baseline policy (seperated based on updated contract condition)', fontsize=16)\n",
    "\n",
    "for i, ax in enumerate(axs.flat):\n",
    "    ax.hist(dataframe[dataframe['condition'] == policy_type[i]]['baseline_average'].values, bins = 100, color = colours[i+1])\n",
    "    ax.set_yscale('log')\n",
    "    ax.set_title(policy_type[i])\n",
    "    plot_mean_std(ax, mean[i], std[i])\n",
    "    ax.legend()\n",
    "\n",
    "fig.supxlabel(\"Kilometers\")\n",
    "fig.supylabel(\"Frequency\")"
   ],
   "execution_count": 17,
   "outputs": [
    {
     "output_type": "execute_result",
     "execution_count": 17,
     "data": {
      "text/plain": "Text(0.02, 0.5, 'Frequency')"
     },
     "metadata": {}
    },
    {
     "data": {
      "text/plain": "<Figure size 720x360 with 2 Axes>",
      "image/png": "[encoded data removed]"
     },
     "metadata": {
      "needs_background": "light",
      "image/png": {
       "width": 740,
       "height": 363
      }
     },
     "output_type": "display_data"
    }
   ]
  },
  {
   "cell_type": "code",
   "metadata": {
    "deepnote_to_be_reexecuted": false,
    "execution_millis": 29,
    "execution_start": 1634805540417,
    "source_hash": "6d0730a0",
    "tags": [],
    "cell_id": "00028-ce368a76-ef46-4c89-b7b5-154b274c8c31",
    "deepnote_cell_type": "code",
    "pycharm": {
     "name": "#%%\n"
    }
   },
   "source": [
    "# 4.6 Testing if the two independent datasets of 'baseline contract kilometrage' have identical average values using the ttest_ind function from scipy\n",
    "from scipy.stats import ttest_ind\n",
    "\n",
    "ttest_ind(\n",
    "    dataframe[dataframe['condition'] == policy_type[0]]['baseline_average'].values,\n",
    "    dataframe[dataframe['condition'] == policy_type[1]]['baseline_average'].values\n",
    "    )"
   ],
   "execution_count": 18,
   "outputs": [
    {
     "output_type": "execute_result",
     "execution_count": 18,
     "data": {
      "text/plain": "Ttest_indResult(statistic=18.453226727861935, pvalue=4.1293195903442773e-75)"
     },
     "metadata": {}
    }
   ]
  },
  {
   "cell_type": "markdown",
   "source": [
    "### 4.6 \n",
    "`p_value` is less than 0.05, therefore we reject the null hypothesis that the kilometrages are the same, there is a significant difference."
   ],
   "metadata": {
    "tags": [],
    "cell_id": "00029-0aed18bd-4641-4431-a630-8e9fdfbee6bc",
    "deepnote_cell_type": "markdown",
    "pycharm": {
     "name": "#%% md\n"
    }
   }
  },
  {
   "cell_type": "markdown",
   "source": [
    "## Interlude: Something is dodgy about this data...\n",
    "\n",
    "---\n",
    "\n",
    "Noticing the oddities in the data, you send an email to your contact at the insurance company asking about the integrity\n",
    " of the data. Their reply seems like something out of a detective movie:\n",
    "\n",
    "> Dear researcher, I believe that this data is not to be trusted. I can't talk right now but will send further hints \n",
    ">throughout the week.\n",
    "\n",
    "As a researcher, you know that [data integrity](https://en.wikipedia.org/wiki/Data_integrity) is a big deal, and decide\n",
    " to investigate."
   ],
   "metadata": {
    "cell_id": "00030-464c4341-3e28-4262-b520-fe99a43e4739",
    "deepnote_cell_type": "markdown",
    "pycharm": {
     "name": "#%% md\n"
    }
   }
  },
  {
   "cell_type": "markdown",
   "source": [
    "### Task 5 — 9pts\n",
    "\n",
    "The first hint you receive is: *there is something off about the kilometrage values in the data.*\n",
    "\n",
    "1. For the baseline contract and for the updated contract, plot the distribution of odometer kilometrage reported for \n",
    "    the first motorcycle insured in each policy. \n",
    "2. For the first motorcycle insured by the company in each policy, plot the difference between the number of kilometers\n",
    "    reported in the baseline and in the updated contract.\n",
    "3. **Discuss:** why is this data unlikely to have originated from real odometer readings?\n",
    "\n",
    "---"
   ],
   "metadata": {
    "cell_id": "00031-bc5ffd24-f04c-4667-a351-42f01acec222",
    "deepnote_cell_type": "markdown",
    "pycharm": {
     "name": "#%% md\n"
    }
   }
  },
  {
   "cell_type": "code",
   "metadata": {
    "deepnote_to_be_reexecuted": false,
    "execution_millis": 2545,
    "execution_start": 1634805540446,
    "source_hash": "d614389f",
    "cell_id": "00032-1a674766-e354-43fa-8b69-772dfac7b36e",
    "deepnote_cell_type": "code",
    "pycharm": {
     "name": "#%%\n"
    }
   },
   "source": [
    "# 5.1 Plotting the updated and baseline kilometrage for the first motorcycle of each policy\n",
    "\n",
    "contract_type = ['baseline contract', 'updated contract']\n",
    "\n",
    "kilometrages = [dataframe[baselines[0]], dataframe[updates[0]]]\n",
    "\n",
    "fig, axs = plt.subplots(1,2, sharex = True, sharey = True, figsize = (10,5))\n",
    "fig.suptitle('First motorcycle kilometrage per policy', fontsize=16)\n",
    "\n",
    "for i, ax in enumerate(axs.flat):\n",
    "    ax.hist(kilometrages[i].values, bins = 100, color = colours[i+1])\n",
    "    ax.set_yscale('log')\n",
    "    ax.set_title(contract_type[i])\n",
    "\n",
    "fig.supxlabel(\"Kilometers\")\n",
    "fig.supylabel(\"Frequency\");"
   ],
   "execution_count": 19,
   "outputs": [
    {
     "data": {
      "text/plain": "<Figure size 720x360 with 2 Axes>",
      "image/png": "[encoded data removed]"
     },
     "metadata": {
      "needs_background": "light",
      "image/png": {
       "width": 649,
       "height": 363
      }
     },
     "output_type": "display_data"
    }
   ]
  },
  {
   "cell_type": "code",
   "metadata": {
    "deepnote_to_be_reexecuted": false,
    "execution_millis": 638,
    "execution_start": 1634805543065,
    "source_hash": "79377ba4",
    "tags": [],
    "cell_id": "00033-cef98952-54a1-4ff0-8ace-0a7025b542f4",
    "deepnote_cell_type": "code",
    "pycharm": {
     "name": "#%%\n"
    }
   },
   "source": [
    "# 5.2 Plotting the difference in updated and baseline kilometrage for the first motorcycle of each policy\n",
    "\n",
    "kilometrages_diff = dataframe[updates[0]] - dataframe[baselines[0]]\n",
    "\n",
    "plt.hist(x=kilometrages_diff, bins=100, color=colours[1])\n",
    "plt.suptitle('Difference bw updated and baseline kilometrage per policy \\n(first motorcycle only)', fontsize=16)\n",
    "plt.xlabel(\"Kilometers\")\n",
    "plt.ylabel(\"Frequency\");"
   ],
   "execution_count": 20,
   "outputs": [
    {
     "data": {
      "text/plain": "<Figure size 432x288 with 1 Axes>",
      "image/png": "[encoded data removed]"
     },
     "metadata": {
      "needs_background": "light",
      "image/png": {
       "width": 497,
       "height": 291
      }
     },
     "output_type": "display_data"
    }
   ]
  },
  {
   "cell_type": "code",
   "metadata": {
    "deepnote_to_be_reexecuted": false,
    "execution_millis": 453,
    "execution_start": 1634805543718,
    "source_hash": "25bdbd7b",
    "tags": [],
    "cell_id": "00034-606c96ca-071a-4240-a6ed-f56a787a3792",
    "deepnote_cell_type": "code",
    "pycharm": {
     "name": "#%%\n"
    }
   },
   "source": [
    "stats.probplot(kilometrages_diff, dist='norm', plot=plt)\n",
    "\n",
    "plt.suptitle(\"Normal distribution\");"
   ],
   "execution_count": 21,
   "outputs": [
    {
     "data": {
      "text/plain": "<Figure size 432x288 with 1 Axes>",
      "image/png": "[encoded data removed]"
     },
     "metadata": {
      "needs_background": "light",
      "image/png": {
       "width": 409,
       "height": 291
      }
     },
     "output_type": "display_data"
    }
   ]
  },
  {
   "cell_type": "markdown",
   "source": [
    "### 5.3 \n",
    "We would expect the data in the histogram above to follow a normal distribution (bell curve), but it doesn't, as it can be seen in the probplot above.  \n",
    "\n",
    "A smaller number of people should have used their motorcycle very little or very much, in the duration between the baseline and updated contract, while the large majority of people would have driven the motorcycles around some average distance. Instead, we can see how the population seems to follow some sort of uniform distribution, which is unlikely."
   ],
   "metadata": {
    "tags": [],
    "cell_id": "00035-7a661855-8865-48c4-8033-1ead42a1b241",
    "deepnote_cell_type": "markdown",
    "pycharm": {
     "name": "#%% md\n"
    }
   }
  },
  {
   "cell_type": "markdown",
   "source": [
    "### Task 6 — 15pts\n",
    "\n",
    "The second hint you receive is: *there is something off with the last digits of the reported kilometrages.*\n",
    "\n",
    "1. Considering the baseline kilometrage of the first motorcycle in each contract (`baseline_motorcycle1`), plot the \n",
    "    distribution of occurrences of the last three digits. Repeat the same for the updated kilometrage of the first \n",
    "    motorcycle in each contract (`update_motorcycle1`).\n",
    "\n",
    "3. **Discuss:** What are the differences between the two distributions?\n",
    "\n",
    "4. **Discuss:** Hypothesize a **plausible** cause for the patterns observed in the digit distribution of the baseline\n",
    "    kilometrage of the first motorcycle.\n",
    "    \n",
    "---\n",
    "\n",
    "**Hint:** The last three digits of the number 12314 are 314. Note that you should consider the three last digits together,\n",
    " not separately!"
   ],
   "metadata": {
    "cell_id": "00036-d6a8e80e-e75e-4cf2-9f69-20725934d972",
    "deepnote_cell_type": "markdown",
    "pycharm": {
     "name": "#%% md\n"
    }
   }
  },
  {
   "cell_type": "code",
   "metadata": {
    "deepnote_to_be_reexecuted": false,
    "execution_millis": 1899,
    "execution_start": 1634805544193,
    "source_hash": "55be1fd3",
    "cell_id": "00037-c4d4dc6e-cdd7-4930-82f7-1e047c6cdd1a",
    "deepnote_cell_type": "code",
    "pycharm": {
     "name": "#%%\n"
    }
   },
   "source": [
    "# 6.1 Plotting the distribution of occurrences of the last three digits\n",
    "\n",
    "def plot_3digits(data1, data2, title, label1, label2):\n",
    "    \"\"\"\n",
    "    Plot the distribution of last three digits in the values of the two provided Series.\n",
    "    \"\"\"\n",
    "    # calculate last 3 digits of the kilometrages using the modulo operator\n",
    "    data1_last3digits = data1 % 1000\n",
    "    data2_last3digits = data2 % 1000\n",
    "\n",
    "    # construct the plot\n",
    "    plt.yscale(\"log\")\n",
    "    plt.title(title)\n",
    "    plt.xlabel(\"Last 3 digits\")\n",
    "    plt.ylabel(\"Number of occurrences\")\n",
    "\n",
    "    # plot the histograms\n",
    "    data1_last3digits.hist(bins = 100, alpha = 1, label = label1, color=colours[1])\n",
    "    data2_last3digits.hist(bins = 100, alpha = 0.6, label = label2, color=colours[2])\n",
    "\n",
    "    # show the plot\n",
    "    plt.legend()\n",
    "    plt.show()\n",
    "\n",
    "    # to support the plot, please see the most common values:\n",
    "    print(\"Value counts for the baseline: \\n\", data1_last3digits.value_counts().iloc[:5])\n",
    "    print(\"Value counts for the update: \\n\", data2_last3digits.value_counts().iloc[:5])\n",
    "\n",
    "plot_3digits(dataframe[\"baseline_motorcycle1\"], dataframe[\"update_motorcycle1\"], \"Kilometrages - last 3 digits\", \"baseline\", \"update\")"
   ],
   "execution_count": 22,
   "outputs": [
    {
     "data": {
      "text/plain": "<Figure size 432x288 with 1 Axes>",
      "image/png": "[encoded data removed]"
     },
     "metadata": {
      "needs_background": "light",
      "image/png": {
       "width": 388,
       "height": 278
      }
     },
     "output_type": "display_data"
    },
    {
     "name": "stdout",
     "text": "Value counts for the baseline: \n 0      1397\n500     143\n200      73\n600      64\n100      57\nName: baseline_motorcycle1, dtype: int64\nValue counts for the update: \n 60     26\n738    25\n517    24\n902    24\n980    23\nName: update_motorcycle1, dtype: int64\n",
     "output_type": "stream"
    }
   ]
  },
  {
   "cell_type": "markdown",
   "source": [
    "### 6.2\n",
    "The last 3 digits of the `update_motorcycle1` column follow a uniform distribution. The last 3 digits of the `baseline_motorcycle1` column also follow a distribution close to normal, with an exception of some clearly visible peaks: the largest one is for value `000` and some other peaks around all the other 'round' numbers (`100`, `200`, ..., `900`).\n",
    "\n",
    "### 6.3\n",
    "The large peak around `000` may be a result of people registering new motorcycles with no kilometrage yet. The peaks around 'round' numbers can be explained as follows: it is possible that some users entered approximate, rounded values for the baseline contract, which would explain the peaks in the histogram for `baseline_motorcycle1`. On the other hand, for the contract update, the first motorcycle does not have a peak around 0 anymore because none of the motorcyles are new, all of them have already had a previous contract i.e. have been driven already. Moreover, the users were explicitly asked to report the *'exact odometer kilometrage'*, so the peaks for the round values  in the histogram for `update_motorcycle1` are gone and the values follow the expected uniform distribution."
   ],
   "metadata": {
    "tags": [],
    "cell_id": "00038-61527b4c-13f4-4a63-9dec-0b919b741f42",
    "deepnote_cell_type": "markdown",
    "pycharm": {
     "name": "#%% md\n"
    }
   }
  },
  {
   "cell_type": "markdown",
   "source": [
    "### Task 7 — 15pts\n",
    "\n",
    "The third (and last) hint you receive is: *there is something wrong with the fonts.*\n",
    "\n",
    "Your anonymous source explains that the `.tsv` file sent to you was derived from an Excel sheet. There, some of the rows\n",
    " were written in the font *Helvetica* while others were written in the font *Arial*. Your anonymous source sends you a \n",
    " file with the relation between policy id and the font used in the respective row (`fonts.csv`), and tells you that the\n",
    "  rows with *Helvetica* font were fabricated.\n",
    "\n",
    "1. Load `fonts.csv` and merge the `font` column into your pandas dataframe.\n",
    "2. Considering only the kilometrage of the first motorcycle in each policy, calculate the number of rows with the Arial  and the Helvetica font, respectively. Also, plot the distribution of baseline kilometers for rows with the Arial font  and for rows with the Helvetica font.\n",
    "3. Similar to what was done in task 6. Plot the distribution of the last three digits for 1) the first motorcycle in  each baseline contract (`baseline_motorcycle1`); and 2) the first motorcycle in each updated contract  (`update_motorcycle1`).\n",
    "4. **Discuss:** Why do these analyses provide evidence that the rows with Helvetica font were fabricated?\n",
    "\n",
    "---"
   ],
   "metadata": {
    "cell_id": "00039-03bdccfe-b8af-4b77-8cdd-b7b63afbc619",
    "deepnote_cell_type": "markdown",
    "pycharm": {
     "name": "#%% md\n"
    }
   }
  },
  {
   "cell_type": "code",
   "metadata": {
    "deepnote_to_be_reexecuted": false,
    "execution_millis": 232,
    "execution_start": 1634805546105,
    "source_hash": "d10f9794",
    "cell_id": "00040-ca6d6a04-08d1-44c9-b26b-42b63eab7cd7",
    "deepnote_cell_type": "code",
    "pycharm": {
     "name": "#%%\n"
    }
   },
   "source": [
    "# 7.1 Load fonts.csv and merge the font column into your pandas dataframe.\n",
    "\n",
    "# load the data\n",
    "fonts = pd.read_csv(\"data/fonts.csv\")\n",
    "fonts = fonts.set_index('id')\n",
    "\n",
    "# and perform the join\n",
    "dataframe = dataframe.join(fonts, on='id', how='left')\n",
    "dataframe.head()"
   ],
   "execution_count": 23,
   "outputs": [
    {
     "output_type": "execute_result",
     "execution_count": 23,
     "data": {
      "application/vnd.deepnote.dataframe.v2+json": {
       "row_count": 5,
       "column_count": 19,
       "columns": [
        {
         "name": "condition",
         "dtype": "object",
         "stats": {
          "unique_count": 2,
          "nan_count": 0,
          "categories": [
           {
            "name": "Sign Bottom",
            "count": 4
           },
           {
            "name": "Sign Top",
            "count": 1
           }
          ]
         }
        },
        {
         "name": "id",
         "dtype": "int64",
         "stats": {
          "unique_count": 5,
          "nan_count": 0,
          "min": "1",
          "max": "5",
          "histogram": [
           {
            "bin_start": 1,
            "bin_end": 1.4,
            "count": 1
           },
           {
            "bin_start": 1.4,
            "bin_end": 1.8,
            "count": 0
           },
           {
            "bin_start": 1.8,
            "bin_end": 2.2,
            "count": 1
           },
           {
            "bin_start": 2.2,
            "bin_end": 2.6,
            "count": 0
           },
           {
            "bin_start": 2.6,
            "bin_end": 3,
            "count": 0
           },
           {
            "bin_start": 3,
            "bin_end": 3.4000000000000004,
            "count": 1
           },
           {
            "bin_start": 3.4000000000000004,
            "bin_end": 3.8000000000000003,
            "count": 0
           },
           {
            "bin_start": 3.8000000000000003,
            "bin_end": 4.2,
            "count": 1
           },
           {
            "bin_start": 4.2,
            "bin_end": 4.6,
            "count": 0
           },
           {
            "bin_start": 4.6,
            "bin_end": 5,
            "count": 1
           }
          ]
         }
        },
        {
         "name": "baseline_motorcycle1",
         "dtype": "uint64",
         "stats": {
          "unique_count": 5,
          "nan_count": 0,
          "min": "896",
          "max": "23912",
          "histogram": [
           {
            "bin_start": 896,
            "bin_end": 3197.6,
            "count": 1
           },
           {
            "bin_start": 3197.6,
            "bin_end": 5499.2,
            "count": 0
           },
           {
            "bin_start": 5499.2,
            "bin_end": 7800.799999999999,
            "count": 0
           },
           {
            "bin_start": 7800.799999999999,
            "bin_end": 10102.4,
            "count": 0
           },
           {
            "bin_start": 10102.4,
            "bin_end": 12404,
            "count": 0
           },
           {
            "bin_start": 12404,
            "bin_end": 14705.599999999999,
            "count": 0
           },
           {
            "bin_start": 14705.599999999999,
            "bin_end": 17007.199999999997,
            "count": 1
           },
           {
            "bin_start": 17007.199999999997,
            "bin_end": 19308.8,
            "count": 0
           },
           {
            "bin_start": 19308.8,
            "bin_end": 21610.399999999998,
            "count": 2
           },
           {
            "bin_start": 21610.399999999998,
            "bin_end": 23912,
            "count": 1
           }
          ]
         }
        },
        {
         "name": "update_motorcycle1",
         "dtype": "uint64",
         "stats": {
          "unique_count": 5,
          "nan_count": 0,
          "min": "37460",
          "max": "63511",
          "histogram": [
           {
            "bin_start": 37460,
            "bin_end": 40065.1,
            "count": 2
           },
           {
            "bin_start": 40065.1,
            "bin_end": 42670.2,
            "count": 0
           },
           {
            "bin_start": 42670.2,
            "bin_end": 45275.3,
            "count": 0
           },
           {
            "bin_start": 45275.3,
            "bin_end": 47880.4,
            "count": 0
           },
           {
            "bin_start": 47880.4,
            "bin_end": 50485.5,
            "count": 0
           },
           {
            "bin_start": 50485.5,
            "bin_end": 53090.6,
            "count": 0
           },
           {
            "bin_start": 53090.6,
            "bin_end": 55695.7,
            "count": 0
           },
           {
            "bin_start": 55695.7,
            "bin_end": 58300.8,
            "count": 0
           },
           {
            "bin_start": 58300.8,
            "bin_end": 60905.899999999994,
            "count": 2
           },
           {
            "bin_start": 60905.899999999994,
            "bin_end": 63511,
            "count": 1
           }
          ]
         }
        },
        {
         "name": "baseline_motorcycle2",
         "dtype": "float64",
         "stats": {
          "unique_count": 2,
          "nan_count": 3,
          "min": "32659.0",
          "max": "44998.0",
          "histogram": [
           {
            "bin_start": 32659,
            "bin_end": 33892.9,
            "count": 1
           },
           {
            "bin_start": 33892.9,
            "bin_end": 35126.8,
            "count": 0
           },
           {
            "bin_start": 35126.8,
            "bin_end": 36360.7,
            "count": 0
           },
           {
            "bin_start": 36360.7,
            "bin_end": 37594.6,
            "count": 0
           },
           {
            "bin_start": 37594.6,
            "bin_end": 38828.5,
            "count": 0
           },
           {
            "bin_start": 38828.5,
            "bin_end": 40062.4,
            "count": 0
           },
           {
            "bin_start": 40062.4,
            "bin_end": 41296.3,
            "count": 0
           },
           {
            "bin_start": 41296.3,
            "bin_end": 42530.2,
            "count": 0
           },
           {
            "bin_start": 42530.2,
            "bin_end": 43764.1,
            "count": 0
           },
           {
            "bin_start": 43764.1,
            "bin_end": 44998,
            "count": 1
           }
          ]
         }
        },
        {
         "name": "update_motorcycle2",
         "dtype": "float64",
         "stats": {
          "unique_count": 2,
          "nan_count": 3,
          "min": "47605.0",
          "max": "59002.0",
          "histogram": [
           {
            "bin_start": 47605,
            "bin_end": 48744.7,
            "count": 1
           },
           {
            "bin_start": 48744.7,
            "bin_end": 49884.4,
            "count": 0
           },
           {
            "bin_start": 49884.4,
            "bin_end": 51024.1,
            "count": 0
           },
           {
            "bin_start": 51024.1,
            "bin_end": 52163.8,
            "count": 0
           },
           {
            "bin_start": 52163.8,
            "bin_end": 53303.5,
            "count": 0
           },
           {
            "bin_start": 53303.5,
            "bin_end": 54443.2,
            "count": 0
           },
           {
            "bin_start": 54443.2,
            "bin_end": 55582.9,
            "count": 0
           },
           {
            "bin_start": 55582.9,
            "bin_end": 56722.6,
            "count": 0
           },
           {
            "bin_start": 56722.6,
            "bin_end": 57862.3,
            "count": 0
           },
           {
            "bin_start": 57862.3,
            "bin_end": 59002,
            "count": 1
           }
          ]
         }
        },
        {
         "name": "baseline_motorcycle3",
         "dtype": "float64",
         "stats": {
          "unique_count": 0,
          "nan_count": 5,
          "min": null,
          "max": null,
          "histogram": [
           {
            "bin_start": 0,
            "bin_end": 0.1,
            "count": 0
           },
           {
            "bin_start": 0.1,
            "bin_end": 0.2,
            "count": 0
           },
           {
            "bin_start": 0.2,
            "bin_end": 0.30000000000000004,
            "count": 0
           },
           {
            "bin_start": 0.30000000000000004,
            "bin_end": 0.4,
            "count": 0
           },
           {
            "bin_start": 0.4,
            "bin_end": 0.5,
            "count": 0
           },
           {
            "bin_start": 0.5,
            "bin_end": 0.6000000000000001,
            "count": 0
           },
           {
            "bin_start": 0.6000000000000001,
            "bin_end": 0.7000000000000001,
            "count": 0
           },
           {
            "bin_start": 0.7000000000000001,
            "bin_end": 0.8,
            "count": 0
           },
           {
            "bin_start": 0.8,
            "bin_end": 0.9,
            "count": 0
           },
           {
            "bin_start": 0.9,
            "bin_end": 1,
            "count": 0
           }
          ]
         }
        },
        {
         "name": "update_motorcycle3",
         "dtype": "float64",
         "stats": {
          "unique_count": 0,
          "nan_count": 5,
          "min": null,
          "max": null,
          "histogram": [
           {
            "bin_start": 0,
            "bin_end": 0.1,
            "count": 0
           },
           {
            "bin_start": 0.1,
            "bin_end": 0.2,
            "count": 0
           },
           {
            "bin_start": 0.2,
            "bin_end": 0.30000000000000004,
            "count": 0
           },
           {
            "bin_start": 0.30000000000000004,
            "bin_end": 0.4,
            "count": 0
           },
           {
            "bin_start": 0.4,
            "bin_end": 0.5,
            "count": 0
           },
           {
            "bin_start": 0.5,
            "bin_end": 0.6000000000000001,
            "count": 0
           },
           {
            "bin_start": 0.6000000000000001,
            "bin_end": 0.7000000000000001,
            "count": 0
           },
           {
            "bin_start": 0.7000000000000001,
            "bin_end": 0.8,
            "count": 0
           },
           {
            "bin_start": 0.8,
            "bin_end": 0.9,
            "count": 0
           },
           {
            "bin_start": 0.9,
            "bin_end": 1,
            "count": 0
           }
          ]
         }
        },
        {
         "name": "baseline_motorcycle4",
         "dtype": "float64",
         "stats": {
          "unique_count": 0,
          "nan_count": 5,
          "min": null,
          "max": null,
          "histogram": [
           {
            "bin_start": 0,
            "bin_end": 0.1,
            "count": 0
           },
           {
            "bin_start": 0.1,
            "bin_end": 0.2,
            "count": 0
           },
           {
            "bin_start": 0.2,
            "bin_end": 0.30000000000000004,
            "count": 0
           },
           {
            "bin_start": 0.30000000000000004,
            "bin_end": 0.4,
            "count": 0
           },
           {
            "bin_start": 0.4,
            "bin_end": 0.5,
            "count": 0
           },
           {
            "bin_start": 0.5,
            "bin_end": 0.6000000000000001,
            "count": 0
           },
           {
            "bin_start": 0.6000000000000001,
            "bin_end": 0.7000000000000001,
            "count": 0
           },
           {
            "bin_start": 0.7000000000000001,
            "bin_end": 0.8,
            "count": 0
           },
           {
            "bin_start": 0.8,
            "bin_end": 0.9,
            "count": 0
           },
           {
            "bin_start": 0.9,
            "bin_end": 1,
            "count": 0
           }
          ]
         }
        },
        {
         "name": "update_motorcycle4",
         "dtype": "float64",
         "stats": {
          "unique_count": 0,
          "nan_count": 5,
          "min": null,
          "max": null,
          "histogram": [
           {
            "bin_start": 0,
            "bin_end": 0.1,
            "count": 0
           },
           {
            "bin_start": 0.1,
            "bin_end": 0.2,
            "count": 0
           },
           {
            "bin_start": 0.2,
            "bin_end": 0.30000000000000004,
            "count": 0
           },
           {
            "bin_start": 0.30000000000000004,
            "bin_end": 0.4,
            "count": 0
           },
           {
            "bin_start": 0.4,
            "bin_end": 0.5,
            "count": 0
           },
           {
            "bin_start": 0.5,
            "bin_end": 0.6000000000000001,
            "count": 0
           },
           {
            "bin_start": 0.6000000000000001,
            "bin_end": 0.7000000000000001,
            "count": 0
           },
           {
            "bin_start": 0.7000000000000001,
            "bin_end": 0.8,
            "count": 0
           },
           {
            "bin_start": 0.8,
            "bin_end": 0.9,
            "count": 0
           },
           {
            "bin_start": 0.9,
            "bin_end": 1,
            "count": 0
           }
          ]
         }
        },
        {
         "name": "motorcycle_count",
         "dtype": "int64",
         "stats": {
          "unique_count": 2,
          "nan_count": 0,
          "min": "1",
          "max": "2",
          "histogram": [
           {
            "bin_start": 1,
            "bin_end": 1.1,
            "count": 3
           },
           {
            "bin_start": 1.1,
            "bin_end": 1.2,
            "count": 0
           },
           {
            "bin_start": 1.2,
            "bin_end": 1.3,
            "count": 0
           },
           {
            "bin_start": 1.3,
            "bin_end": 1.4,
            "count": 0
           },
           {
            "bin_start": 1.4,
            "bin_end": 1.5,
            "count": 0
           },
           {
            "bin_start": 1.5,
            "bin_end": 1.6,
            "count": 0
           },
           {
            "bin_start": 1.6,
            "bin_end": 1.7000000000000002,
            "count": 0
           },
           {
            "bin_start": 1.7000000000000002,
            "bin_end": 1.8,
            "count": 0
           },
           {
            "bin_start": 1.8,
            "bin_end": 1.9,
            "count": 0
           },
           {
            "bin_start": 1.9,
            "bin_end": 2,
            "count": 2
           }
          ]
         }
        },
        {
         "name": "baseline_average",
         "dtype": "float64",
         "stats": {
          "unique_count": 5,
          "nan_count": 0,
          "min": "896.0",
          "max": "33169.0",
          "histogram": [
           {
            "bin_start": 896,
            "bin_end": 4123.3,
            "count": 1
           },
           {
            "bin_start": 4123.3,
            "bin_end": 7350.6,
            "count": 0
           },
           {
            "bin_start": 7350.6,
            "bin_end": 10577.900000000001,
            "count": 0
           },
           {
            "bin_start": 10577.900000000001,
            "bin_end": 13805.2,
            "count": 0
           },
           {
            "bin_start": 13805.2,
            "bin_end": 17032.5,
            "count": 1
           },
           {
            "bin_start": 17032.5,
            "bin_end": 20259.800000000003,
            "count": 0
           },
           {
            "bin_start": 20259.800000000003,
            "bin_end": 23487.100000000002,
            "count": 0
           },
           {
            "bin_start": 23487.100000000002,
            "bin_end": 26714.4,
            "count": 1
           },
           {
            "bin_start": 26714.4,
            "bin_end": 29941.7,
            "count": 1
           },
           {
            "bin_start": 29941.7,
            "bin_end": 33169,
            "count": 1
           }
          ]
         }
        },
        {
         "name": "update_average",
         "dtype": "float64",
         "stats": {
          "unique_count": 5,
          "nan_count": 0,
          "min": "39198.0",
          "max": "59292.0",
          "histogram": [
           {
            "bin_start": 39198,
            "bin_end": 41207.4,
            "count": 1
           },
           {
            "bin_start": 41207.4,
            "bin_end": 43216.8,
            "count": 0
           },
           {
            "bin_start": 43216.8,
            "bin_end": 45226.2,
            "count": 0
           },
           {
            "bin_start": 45226.2,
            "bin_end": 47235.6,
            "count": 0
           },
           {
            "bin_start": 47235.6,
            "bin_end": 49245,
            "count": 1
           },
           {
            "bin_start": 49245,
            "bin_end": 51254.4,
            "count": 0
           },
           {
            "bin_start": 51254.4,
            "bin_end": 53263.8,
            "count": 0
           },
           {
            "bin_start": 53263.8,
            "bin_end": 55273.2,
            "count": 0
           },
           {
            "bin_start": 55273.2,
            "bin_end": 57282.600000000006,
            "count": 1
           },
           {
            "bin_start": 57282.600000000006,
            "bin_end": 59292,
            "count": 2
           }
          ]
         }
        },
        {
         "name": "diff_average",
         "dtype": "float64",
         "stats": {
          "unique_count": 5,
          "nan_count": 0,
          "min": "15062.0",
          "max": "42430.0",
          "histogram": [
           {
            "bin_start": 15062,
            "bin_end": 17798.8,
            "count": 1
           },
           {
            "bin_start": 17798.8,
            "bin_end": 20535.6,
            "count": 0
           },
           {
            "bin_start": 20535.6,
            "bin_end": 23272.4,
            "count": 0
           },
           {
            "bin_start": 23272.4,
            "bin_end": 26009.2,
            "count": 0
           },
           {
            "bin_start": 26009.2,
            "bin_end": 28746,
            "count": 1
           },
           {
            "bin_start": 28746,
            "bin_end": 31482.800000000003,
            "count": 0
           },
           {
            "bin_start": 31482.800000000003,
            "bin_end": 34219.600000000006,
            "count": 0
           },
           {
            "bin_start": 34219.600000000006,
            "bin_end": 36956.4,
            "count": 1
           },
           {
            "bin_start": 36956.4,
            "bin_end": 39693.2,
            "count": 1
           },
           {
            "bin_start": 39693.2,
            "bin_end": 42430,
            "count": 1
           }
          ]
         }
        },
        {
         "name": "diff_of_1",
         "dtype": "uint64",
         "stats": {
          "unique_count": 5,
          "nan_count": 0,
          "min": "16120",
          "max": "42430",
          "histogram": [
           {
            "bin_start": 16120,
            "bin_end": 18751,
            "count": 1
           },
           {
            "bin_start": 18751,
            "bin_end": 21382,
            "count": 0
           },
           {
            "bin_start": 21382,
            "bin_end": 24013,
            "count": 0
           },
           {
            "bin_start": 24013,
            "bin_end": 26644,
            "count": 0
           },
           {
            "bin_start": 26644,
            "bin_end": 29275,
            "count": 0
           },
           {
            "bin_start": 29275,
            "bin_end": 31906,
            "count": 0
           },
           {
            "bin_start": 31906,
            "bin_end": 34537,
            "count": 0
           },
           {
            "bin_start": 34537,
            "bin_end": 37168,
            "count": 1
           },
           {
            "bin_start": 37168,
            "bin_end": 39799,
            "count": 1
           },
           {
            "bin_start": 39799,
            "bin_end": 42430,
            "count": 2
           }
          ]
         }
        },
        {
         "name": "diff_of_2",
         "dtype": "float64",
         "stats": {
          "unique_count": 2,
          "nan_count": 3,
          "min": "14004.0",
          "max": "14946.0",
          "histogram": [
           {
            "bin_start": 14004,
            "bin_end": 14098.2,
            "count": 1
           },
           {
            "bin_start": 14098.2,
            "bin_end": 14192.4,
            "count": 0
           },
           {
            "bin_start": 14192.4,
            "bin_end": 14286.6,
            "count": 0
           },
           {
            "bin_start": 14286.6,
            "bin_end": 14380.8,
            "count": 0
           },
           {
            "bin_start": 14380.8,
            "bin_end": 14475,
            "count": 0
           },
           {
            "bin_start": 14475,
            "bin_end": 14569.2,
            "count": 0
           },
           {
            "bin_start": 14569.2,
            "bin_end": 14663.4,
            "count": 0
           },
           {
            "bin_start": 14663.4,
            "bin_end": 14757.6,
            "count": 0
           },
           {
            "bin_start": 14757.6,
            "bin_end": 14851.8,
            "count": 0
           },
           {
            "bin_start": 14851.8,
            "bin_end": 14946,
            "count": 1
           }
          ]
         }
        },
        {
         "name": "diff_of_3",
         "dtype": "float64",
         "stats": {
          "unique_count": 0,
          "nan_count": 5,
          "min": null,
          "max": null,
          "histogram": [
           {
            "bin_start": 0,
            "bin_end": 0.1,
            "count": 0
           },
           {
            "bin_start": 0.1,
            "bin_end": 0.2,
            "count": 0
           },
           {
            "bin_start": 0.2,
            "bin_end": 0.30000000000000004,
            "count": 0
           },
           {
            "bin_start": 0.30000000000000004,
            "bin_end": 0.4,
            "count": 0
           },
           {
            "bin_start": 0.4,
            "bin_end": 0.5,
            "count": 0
           },
           {
            "bin_start": 0.5,
            "bin_end": 0.6000000000000001,
            "count": 0
           },
           {
            "bin_start": 0.6000000000000001,
            "bin_end": 0.7000000000000001,
            "count": 0
           },
           {
            "bin_start": 0.7000000000000001,
            "bin_end": 0.8,
            "count": 0
           },
           {
            "bin_start": 0.8,
            "bin_end": 0.9,
            "count": 0
           },
           {
            "bin_start": 0.9,
            "bin_end": 1,
            "count": 0
           }
          ]
         }
        },
        {
         "name": "diff_of_4",
         "dtype": "float64",
         "stats": {
          "unique_count": 0,
          "nan_count": 5,
          "min": null,
          "max": null,
          "histogram": [
           {
            "bin_start": 0,
            "bin_end": 0.1,
            "count": 0
           },
           {
            "bin_start": 0.1,
            "bin_end": 0.2,
            "count": 0
           },
           {
            "bin_start": 0.2,
            "bin_end": 0.30000000000000004,
            "count": 0
           },
           {
            "bin_start": 0.30000000000000004,
            "bin_end": 0.4,
            "count": 0
           },
           {
            "bin_start": 0.4,
            "bin_end": 0.5,
            "count": 0
           },
           {
            "bin_start": 0.5,
            "bin_end": 0.6000000000000001,
            "count": 0
           },
           {
            "bin_start": 0.6000000000000001,
            "bin_end": 0.7000000000000001,
            "count": 0
           },
           {
            "bin_start": 0.7000000000000001,
            "bin_end": 0.8,
            "count": 0
           },
           {
            "bin_start": 0.8,
            "bin_end": 0.9,
            "count": 0
           },
           {
            "bin_start": 0.9,
            "bin_end": 1,
            "count": 0
           }
          ]
         }
        },
        {
         "name": "font",
         "dtype": "object",
         "stats": {
          "unique_count": 2,
          "nan_count": 0,
          "categories": [
           {
            "name": "Helvetica",
            "count": 4
           },
           {
            "name": "Arial",
            "count": 1
           }
          ]
         }
        },
        {
         "name": "_deepnote_index_column",
         "dtype": "int64"
        }
       ],
       "rows_top": [
        {
         "condition": "Sign Top",
         "id": 1,
         "baseline_motorcycle1": 896,
         "update_motorcycle1": 39198,
         "baseline_motorcycle2": "nan",
         "update_motorcycle2": "nan",
         "baseline_motorcycle3": "nan",
         "update_motorcycle3": "nan",
         "baseline_motorcycle4": "nan",
         "update_motorcycle4": "nan",
         "motorcycle_count": 1,
         "baseline_average": 896,
         "update_average": 39198,
         "diff_average": 38302,
         "diff_of_1": 38302,
         "diff_of_2": "nan",
         "diff_of_3": "nan",
         "diff_of_4": "nan",
         "font": "Helvetica",
         "_deepnote_index_column": 0
        },
        {
         "condition": "Sign Bottom",
         "id": 2,
         "baseline_motorcycle1": 21396,
         "update_motorcycle1": 63511,
         "baseline_motorcycle2": 32659,
         "update_motorcycle2": 47605,
         "baseline_motorcycle3": "nan",
         "update_motorcycle3": "nan",
         "baseline_motorcycle4": "nan",
         "update_motorcycle4": "nan",
         "motorcycle_count": 2,
         "baseline_average": 27027.5,
         "update_average": 55558,
         "diff_average": 28530.5,
         "diff_of_1": 42115,
         "diff_of_2": 14946,
         "diff_of_3": "nan",
         "diff_of_4": "nan",
         "font": "Helvetica",
         "_deepnote_index_column": 1
        },
        {
         "condition": "Sign Bottom",
         "id": 3,
         "baseline_motorcycle1": 21340,
         "update_motorcycle1": 37460,
         "baseline_motorcycle2": 44998,
         "update_motorcycle2": 59002,
         "baseline_motorcycle3": "nan",
         "update_motorcycle3": "nan",
         "baseline_motorcycle4": "nan",
         "update_motorcycle4": "nan",
         "motorcycle_count": 2,
         "baseline_average": 33169,
         "update_average": 48231,
         "diff_average": 15062,
         "diff_of_1": 16120,
         "diff_of_2": 14004,
         "diff_of_3": "nan",
         "diff_of_4": "nan",
         "font": "Helvetica",
         "_deepnote_index_column": 2
        },
        {
         "condition": "Sign Bottom",
         "id": 4,
         "baseline_motorcycle1": 23912,
         "update_motorcycle1": 59136,
         "baseline_motorcycle2": "nan",
         "update_motorcycle2": "nan",
         "baseline_motorcycle3": "nan",
         "update_motorcycle3": "nan",
         "baseline_motorcycle4": "nan",
         "update_motorcycle4": "nan",
         "motorcycle_count": 1,
         "baseline_average": 23912,
         "update_average": 59136,
         "diff_average": 35224,
         "diff_of_1": 35224,
         "diff_of_2": "nan",
         "diff_of_3": "nan",
         "diff_of_4": "nan",
         "font": "Helvetica",
         "_deepnote_index_column": 3
        },
        {
         "condition": "Sign Bottom",
         "id": 5,
         "baseline_motorcycle1": 16862,
         "update_motorcycle1": 59292,
         "baseline_motorcycle2": "nan",
         "update_motorcycle2": "nan",
         "baseline_motorcycle3": "nan",
         "update_motorcycle3": "nan",
         "baseline_motorcycle4": "nan",
         "update_motorcycle4": "nan",
         "motorcycle_count": 1,
         "baseline_average": 16862,
         "update_average": 59292,
         "diff_average": 42430,
         "diff_of_1": 42430,
         "diff_of_2": "nan",
         "diff_of_3": "nan",
         "diff_of_4": "nan",
         "font": "Arial",
         "_deepnote_index_column": 4
        }
       ],
       "rows_bottom": null
      },
      "text/plain": "     condition  id  baseline_motorcycle1  update_motorcycle1  \\\n0     Sign Top   1                   896               39198   \n1  Sign Bottom   2                 21396               63511   \n2  Sign Bottom   3                 21340               37460   \n3  Sign Bottom   4                 23912               59136   \n4  Sign Bottom   5                 16862               59292   \n\n   baseline_motorcycle2  update_motorcycle2  baseline_motorcycle3  \\\n0                   NaN                 NaN                   NaN   \n1               32659.0             47605.0                   NaN   \n2               44998.0             59002.0                   NaN   \n3                   NaN                 NaN                   NaN   \n4                   NaN                 NaN                   NaN   \n\n   update_motorcycle3  baseline_motorcycle4  update_motorcycle4  \\\n0                 NaN                   NaN                 NaN   \n1                 NaN                   NaN                 NaN   \n2                 NaN                   NaN                 NaN   \n3                 NaN                   NaN                 NaN   \n4                 NaN                   NaN                 NaN   \n\n   motorcycle_count  baseline_average  update_average  diff_average  \\\n0                 1             896.0         39198.0       38302.0   \n1                 2           27027.5         55558.0       28530.5   \n2                 2           33169.0         48231.0       15062.0   \n3                 1           23912.0         59136.0       35224.0   \n4                 1           16862.0         59292.0       42430.0   \n\n   diff_of_1  diff_of_2  diff_of_3  diff_of_4       font  \n0      38302        NaN        NaN        NaN  Helvetica  \n1      42115    14946.0        NaN        NaN  Helvetica  \n2      16120    14004.0        NaN        NaN  Helvetica  \n3      35224        NaN        NaN        NaN  Helvetica  \n4      42430        NaN        NaN        NaN      Arial  ",
      "text/html": "<div>\n<style scoped>\n    .dataframe tbody tr th:only-of-type {\n        vertical-align: middle;\n    }\n\n    .dataframe tbody tr th {\n        vertical-align: top;\n    }\n\n    .dataframe thead th {\n        text-align: right;\n    }\n</style>\n<table border=\"1\" class=\"dataframe\">\n  <thead>\n    <tr style=\"text-align: right;\">\n      <th></th>\n      <th>condition</th>\n      <th>id</th>\n      <th>baseline_motorcycle1</th>\n      <th>update_motorcycle1</th>\n      <th>baseline_motorcycle2</th>\n      <th>update_motorcycle2</th>\n      <th>baseline_motorcycle3</th>\n      <th>update_motorcycle3</th>\n      <th>baseline_motorcycle4</th>\n      <th>update_motorcycle4</th>\n      <th>motorcycle_count</th>\n      <th>baseline_average</th>\n      <th>update_average</th>\n      <th>diff_average</th>\n      <th>diff_of_1</th>\n      <th>diff_of_2</th>\n      <th>diff_of_3</th>\n      <th>diff_of_4</th>\n      <th>font</th>\n    </tr>\n  </thead>\n  <tbody>\n    <tr>\n      <th>0</th>\n      <td>Sign Top</td>\n      <td>1</td>\n      <td>896</td>\n      <td>39198</td>\n      <td>NaN</td>\n      <td>NaN</td>\n      <td>NaN</td>\n      <td>NaN</td>\n      <td>NaN</td>\n      <td>NaN</td>\n      <td>1</td>\n      <td>896.0</td>\n      <td>39198.0</td>\n      <td>38302.0</td>\n      <td>38302</td>\n      <td>NaN</td>\n      <td>NaN</td>\n      <td>NaN</td>\n      <td>Helvetica</td>\n    </tr>\n    <tr>\n      <th>1</th>\n      <td>Sign Bottom</td>\n      <td>2</td>\n      <td>21396</td>\n      <td>63511</td>\n      <td>32659.0</td>\n      <td>47605.0</td>\n      <td>NaN</td>\n      <td>NaN</td>\n      <td>NaN</td>\n      <td>NaN</td>\n      <td>2</td>\n      <td>27027.5</td>\n      <td>55558.0</td>\n      <td>28530.5</td>\n      <td>42115</td>\n      <td>14946.0</td>\n      <td>NaN</td>\n      <td>NaN</td>\n      <td>Helvetica</td>\n    </tr>\n    <tr>\n      <th>2</th>\n      <td>Sign Bottom</td>\n      <td>3</td>\n      <td>21340</td>\n      <td>37460</td>\n      <td>44998.0</td>\n      <td>59002.0</td>\n      <td>NaN</td>\n      <td>NaN</td>\n      <td>NaN</td>\n      <td>NaN</td>\n      <td>2</td>\n      <td>33169.0</td>\n      <td>48231.0</td>\n      <td>15062.0</td>\n      <td>16120</td>\n      <td>14004.0</td>\n      <td>NaN</td>\n      <td>NaN</td>\n      <td>Helvetica</td>\n    </tr>\n    <tr>\n      <th>3</th>\n      <td>Sign Bottom</td>\n      <td>4</td>\n      <td>23912</td>\n      <td>59136</td>\n      <td>NaN</td>\n      <td>NaN</td>\n      <td>NaN</td>\n      <td>NaN</td>\n      <td>NaN</td>\n      <td>NaN</td>\n      <td>1</td>\n      <td>23912.0</td>\n      <td>59136.0</td>\n      <td>35224.0</td>\n      <td>35224</td>\n      <td>NaN</td>\n      <td>NaN</td>\n      <td>NaN</td>\n      <td>Helvetica</td>\n    </tr>\n    <tr>\n      <th>4</th>\n      <td>Sign Bottom</td>\n      <td>5</td>\n      <td>16862</td>\n      <td>59292</td>\n      <td>NaN</td>\n      <td>NaN</td>\n      <td>NaN</td>\n      <td>NaN</td>\n      <td>NaN</td>\n      <td>NaN</td>\n      <td>1</td>\n      <td>16862.0</td>\n      <td>59292.0</td>\n      <td>42430.0</td>\n      <td>42430</td>\n      <td>NaN</td>\n      <td>NaN</td>\n      <td>NaN</td>\n      <td>Arial</td>\n    </tr>\n  </tbody>\n</table>\n</div>"
     },
     "metadata": {}
    }
   ]
  },
  {
   "cell_type": "code",
   "metadata": {
    "deepnote_to_be_reexecuted": false,
    "execution_millis": 85,
    "execution_start": 1634805546255,
    "source_hash": "e43c7ba6",
    "tags": [],
    "cell_id": "00041-ac3950f2-75d7-44b7-a41c-1e5b06c58e86",
    "deepnote_cell_type": "code",
    "pycharm": {
     "name": "#%%\n"
    }
   },
   "source": [
    "# 7.2 Considering only the kilometrage of the first motorcycle in each policy, calculate the number of rows with the Arial.\n",
    "\n",
    "# split the data, check the number of rows\n",
    "arial = dataframe[dataframe['font'] == 'Arial']\n",
    "helvetica = dataframe[dataframe['font'] == 'Helvetica']\n",
    "\n",
    "print(f\"\"\"Number of rows:\n",
    "    Arial:       {arial.shape[0]}\n",
    "    Helvetica:   {helvetica.shape[0]}\"\"\")"
   ],
   "execution_count": 24,
   "outputs": [
    {
     "name": "stdout",
     "text": "Number of rows:\n    Arial:       6737\n    Helvetica:   6735\n",
     "output_type": "stream"
    }
   ]
  },
  {
   "cell_type": "code",
   "metadata": {
    "deepnote_to_be_reexecuted": false,
    "execution_millis": 2027,
    "execution_start": 1634805546282,
    "source_hash": "3249f423",
    "tags": [],
    "cell_id": "00042-34cf8822-f93b-4c91-ac1c-6bcb68e877a7",
    "deepnote_cell_type": "code",
    "pycharm": {
     "name": "#%%\n"
    }
   },
   "source": [
    "# Also, plot the distribution of baseline kilometers for rows with the Arial font and for rows with the Helvetica font. \n",
    "\n",
    "def plot_hist_array(title, datas, labels, xlabel, ylabel):\n",
    "    \"\"\"\n",
    "    Plot histograms for the array of data series provided with respective labels.\n",
    "    \"\"\"\n",
    "    assert len(datas) == len(labels), \"The number of data lists and labels has to be the same.\"\n",
    "    N = len(datas)\n",
    "\n",
    "    fig, axs = plt.subplots(1,N, sharex = True, sharey = True, figsize = (N * 6,6))\n",
    "    fig.suptitle(title, fontsize=12)\n",
    "\n",
    "    for ax, data, label, color in zip(axs.flat, datas, labels, colours[1:]):\n",
    "        ax.hist(data.values, bins = 100, color = color)\n",
    "        ax.set_yscale('log')\n",
    "        ax.set_title(label)\n",
    "\n",
    "    fig.supxlabel(xlabel)\n",
    "    fig.supylabel(ylabel);\n",
    "\n",
    "datas = [arial[\"baseline_motorcycle1\"], helvetica[\"baseline_motorcycle1\"]]\n",
    "labels = [\"Arial\", \"Helvetica (fabricated data)\"]\n",
    "plot_hist_array(\"Baseline kilometrages\", datas, labels, \"kilometrages\", \"number of occurrences\")\n"
   ],
   "execution_count": 25,
   "outputs": [
    {
     "data": {
      "text/plain": "<Figure size 864x432 with 2 Axes>",
      "image/png": "[encoded data removed]"
     },
     "metadata": {
      "needs_background": "light",
      "image/png": {
       "width": 774,
       "height": 433
      }
     },
     "output_type": "display_data"
    }
   ]
  },
  {
   "cell_type": "code",
   "metadata": {
    "deepnote_to_be_reexecuted": false,
    "execution_millis": 2204,
    "execution_start": 1634805548315,
    "source_hash": "f3722369",
    "tags": [],
    "cell_id": "00043-5eb18ea4-81c5-4074-89cf-31aeaf0da35b",
    "deepnote_cell_type": "code",
    "pycharm": {
     "name": "#%%\n"
    }
   },
   "source": [
    "# Also plot the update\n",
    "datas = [arial[\"update_motorcycle1\"], helvetica[\"update_motorcycle1\"]]\n",
    "labels = [\"Arial\", \"Helvetica (fabricated data)\"]\n",
    "plot_hist_array(\"Updated kilometrages\", datas, labels, \"kilometrages\", \"number of occurrences\")"
   ],
   "execution_count": 26,
   "outputs": [
    {
     "data": {
      "text/plain": "<Figure size 864x432 with 2 Axes>",
      "image/png": "[encoded data removed]"
     },
     "metadata": {
      "needs_background": "light",
      "image/png": {
       "width": 774,
       "height": 433
      }
     },
     "output_type": "display_data"
    }
   ]
  },
  {
   "cell_type": "code",
   "metadata": {
    "deepnote_to_be_reexecuted": false,
    "execution_millis": 3267,
    "execution_start": 1634805550721,
    "source_hash": "848b5496",
    "tags": [],
    "cell_id": "00044-67f0bf67-d5c6-4043-8b88-f35220d7c421",
    "deepnote_cell_type": "code",
    "pycharm": {
     "name": "#%%\n"
    }
   },
   "source": [
    "#  7.3 Similar to what was done in task 6. Plot the distribution of the last three digits for \n",
    "#       1) the first motorcycle in each baseline contract (baseline_motorcycle1); and \n",
    "#       2) the first motorcycle in each updated contract (update_motorcycle1).\n",
    "\n",
    "def compare_3_digits(title, xlabel, ylabel, baseline1, update1, label1, baseline2, update2, label2):\n",
    "    fig, axs = plt.subplots(1, 2, sharex = True, sharey = True, figsize = (12,6))\n",
    "    fig.suptitle(title, fontsize=12)\n",
    "\n",
    "    for ax, baseline, update, label, color in zip(axs.flat, [baseline1, baseline2], [update1, update2], [label1, label2], colours):\n",
    "        ax.set_yscale('log')\n",
    "        ax.set_title(label)\n",
    "        ax.hist(baseline, bins = 100, alpha = 1, label = \"baseline\", color=colours[1])\n",
    "        ax.hist(update, bins = 100, alpha = 0.6, label = \"update\", color=colours[2])\n",
    "        ax.legend()\n",
    "    \n",
    "    fig.supxlabel(xlabel)\n",
    "    fig.supylabel(ylabel);\n",
    "\n",
    "compare_3_digits(\"Kilometrages, last 3 digits\", \"Last 3 digits\", \"Frequency\", \n",
    "arial[\"baseline_motorcycle1\"] % 1000, arial[\"update_motorcycle1\"] % 1000 , \"Arial\",\n",
    "helvetica[\"baseline_motorcycle1\"] % 1000, helvetica[\"update_motorcycle1\"] % 1000, \"Helvetica (fabricated data)\")"
   ],
   "execution_count": 27,
   "outputs": [
    {
     "data": {
      "text/plain": "<Figure size 864x432 with 2 Axes>",
      "image/png": "[encoded data removed]"
     },
     "metadata": {
      "needs_background": "light",
      "image/png": {
       "width": 774,
       "height": 433
      }
     },
     "output_type": "display_data"
    }
   ]
  },
  {
   "cell_type": "markdown",
   "source": [
    "#### 7.4\n",
    "__Q: Why do these analyses provide evidence that the rows with Helvetica font were fabricated?__\n",
    "\n",
    "Suspiciously, the *baseline* and *update* distributions seem almost identical for Arial and Helvetica -- it seems like someone has taken the data from Arial, and generated more data following the same distribution. To support this theory, consider the last 3 digits plots: in the first plot (for the Arial distribution), we can observe the difference between the *baseline* and the *update* distributions, explained in tasks __6.3__ and __6.4__ - the *baseline* has several peaks, but the *update* follows a uniform distribution. However, for the Helvetica data there is no such effect, indicating that the data was generated automatically for both *baseline* and *update* columns.\n",
    "\n",
    "<!-- TODO: finish -->"
   ],
   "metadata": {
    "tags": [],
    "cell_id": "00045-237ffeae-783f-4396-9aba-8f06b9b3c634",
    "deepnote_cell_type": "markdown",
    "pycharm": {
     "name": "#%% md\n"
    }
   }
  },
  {
   "cell_type": "markdown",
   "source": [
    "### Task 8 — 15pts\n",
    "\n",
    "You've had enough! You decide to write an email to your PI (principal investigator, also known as \"your boss\") reporting\n",
    " the oddities you have observed in the data. Write a (brief) text (in markdown) of up to 300 words. Your text should:\n",
    "\n",
    "- Use the analyses you did to make a convincing case that the data has been tampered with. \n",
    "- Grounded in your analyses, provide a plausible hypothesis about how the data has been tampered with.\n",
    "- Discuss whether the data leads to the conclusion that signing at the top decreases dishonesty.\n",
    "\n",
    "Structure your text into three bullets, analogous to the ones above.\n",
    "\n",
    "You can reference images present in the notebook by indicating a task (e.g., image plotted in Task 3.3) or a cell \n",
    "number.\n",
    "\n",
    "Note that you do not need to conduct any additional analysis to write this text. If you do, the code should be at the \n",
    "end of this notebook, i.e., after your answer.\n",
    "\n",
    "---\n",
    "\n",
    "**Hint:** The data has been tampered with in more than one way."
   ],
   "metadata": {
    "cell_id": "00046-d00609e7-11df-4cf5-b729-4cfa6355cc4b",
    "deepnote_cell_type": "markdown",
    "pycharm": {
     "name": "#%% md\n"
    }
   }
  },
  {
   "cell_type": "markdown",
   "source": [
    "### The data is not convincing\n",
    "- The data provided for the study can not be used since different analyses prove that it has been tampered with. Firstly, kilometrage differences between updated and baseline policies follow a uniform distribution. This is highly suspect since people's usage of motorcycles should be around the average, and only a few travel a lot or little (normal distribution). Additionally, some policies were written using “Helvetica” font, whereas others used “Arial”. Dividing the data according to the font we find two identically distributed populations but radical differences in the last 3-digits. Arial-written data mostly have kilometrages rounded to “000”, as well as “200”,”300”, etc. Conversely, Helvetica’s data is equally distributed among all 3-digits numbers. Finally, statistical hypothesis tests prove that, dividing baseline kilometrages by the policy’s signing position, we obtain two populations with different means, even though all baseline policies had to be signed at the bottom and should have had, therefore, an equal mean. Considering only Arial-written data doesn’t change the result.\n",
    "- Due to what was stated above, some hypotheses might be made. According to the 3 digits distribution, Helvetica’s data has been generated following real data distribution, but without considering the human’s tendency to round values. This tendency disappears in updated values since *'exact odometer kilometrage'* were asked. Even without considering Helvetica’s data, many signed at the top policies have null baseline kilometrage values, whereas policies signed at the bottom don’t. This may contradict the claim that updated policies were divided randomly among baseline contracts.\n",
    "- To conclude, data insights seem to prove that signing at the top decreases dishonesty with slightly higher values in kilometrage declarations. On the other hand, since policies appear to come from different populations, we can’t state that data is telling the truth. Therefore, nothing can be proved.\n"
   ],
   "metadata": {
    "deepnote_to_be_reexecuted": true,
    "execution_millis": 1,
    "execution_start": 1634628206945,
    "source_hash": "b623e53d",
    "cell_id": "00047-f01f4bfd-b14e-44e8-9d68-f87bd4dddf62",
    "deepnote_cell_type": "markdown",
    "pycharm": {
     "name": "#%% md\n"
    }
   }
  },
  {
   "cell_type": "code",
   "metadata": {
    "cell_id": "00048-08ce75f1-ed90-4261-a2de-75db73a7dd44",
    "deepnote_to_be_reexecuted": false,
    "source_hash": "8610be8b",
    "execution_start": 1634805554053,
    "execution_millis": 845,
    "deepnote_cell_type": "code",
    "pycharm": {
     "name": "#%%\n"
    }
   },
   "source": [
    "# Task 8 Additional analysis \n",
    "\n",
    "dataframe = dataframe.drop(dataframe[dataframe.font == 'Helvetica'].index)\n",
    "kilometrages_diff = dataframe[updates[0]] - dataframe[baselines[0]]\n",
    "plt.hist(x=kilometrages_diff, bins=100, color=colours[1])\n",
    "plt.suptitle('Difference bw updated and baseline kilometrage per policy, Arial-data only', fontsize=16)\n",
    "plt.xlabel(\"Kilometers\")\n",
    "plt.ylabel(\"Frequency\")"
   ],
   "execution_count": 28,
   "outputs": [
    {
     "output_type": "execute_result",
     "execution_count": 28,
     "data": {
      "text/plain": "Text(0, 0.5, 'Frequency')"
     },
     "metadata": {}
    },
    {
     "data": {
      "text/plain": "<Figure size 432x288 with 1 Axes>",
      "image/png": "[encoded data removed]"
     },
     "metadata": {
      "needs_background": "light",
      "image/png": {
       "width": 620,
       "height": 291
      }
     },
     "output_type": "display_data"
    }
   ]
  },
  {
   "cell_type": "code",
   "metadata": {
    "deepnote_to_be_reexecuted": false,
    "execution_millis": 2670,
    "execution_start": 1634805554926,
    "source_hash": "727dff37",
    "tags": [],
    "cell_id": "00049-aec9ce0a-de88-4721-951f-fe9a1594751e",
    "deepnote_cell_type": "code",
    "pycharm": {
     "name": "#%%\n"
    }
   },
   "source": [
    "\n",
    "print(f\"\"\"Test to show that Helvetica and Arial populations have the same average value :\n",
    "\n",
    "baseline_1 kilometrages : {ttest_ind(arial[baselines[0]].values, helvetica[baselines[0]].values)}\n",
    "updated_1 kilometrages  : {ttest_ind(arial[updates[0]].values, helvetica[updates[0]].values)}\n",
    "\n",
    "p-values > 0.05, therefore we cannot reject the null hypothesis, \n",
    "i.e. there is no statistically significant difference in the avg values.\"\"\")\n",
    "print(u'\\u2500' * 100)\n",
    "\n",
    "\n",
    "print(f\"\"\"\\nTest to show that Arial-only data still has different means between baseline values seperated by sign position :\n",
    "\n",
    "{ttest_ind(\n",
    "    arial[arial['condition'] == policy_type[0]]['baseline_average'].values,\n",
    "    arial[arial['condition'] == policy_type[1]]['baseline_average'].values)}\n",
    "\n",
    "p-values < 0.05, therefore we can reject the null hypothesis, \n",
    "i.e. there is a statistically significant difference in the avg values.\"\"\")\n",
    "print(u'\\u2500' * 100)\n",
    "\n",
    "\n",
    "policy_type = [\"Sign Bottom\", \"Sign Top\"]\n",
    "\n",
    "# per condition, aggregate mean and standard deviation for average kilometrages per baseline policy\n",
    "mean, std = dataframe.groupby('condition')['baseline_average'].agg(['mean', 'std']).T.values\n",
    "\n",
    "fig, axs = plt.subplots(1,2, sharex = True, sharey = True, figsize = (10,5))\n",
    "fig.suptitle('Average kilometrage per baseline policy (seperated based on updated contract groups), Arial-data only', fontsize=16)\n",
    "\n",
    "for i, ax in enumerate(axs.flat):\n",
    "    ax.hist(dataframe[dataframe['condition'] == policy_type[i]]['baseline_average'].values, bins = 100, color = colours[i+1])\n",
    "    ax.set_yscale('log')\n",
    "    ax.set_title(policy_type[i])\n",
    "    plot_mean_std(ax, mean[i], std[i])\n",
    "    ax.legend()\n",
    "\n",
    "fig.supxlabel(\"Kilometers\")\n",
    "fig.supylabel(\"Frequency\");"
   ],
   "execution_count": 29,
   "outputs": [
    {
     "name": "stdout",
     "text": "Test to show that Helvetica and Arial populations have the same average value :\n\nbaseline_1 kilometrages : Ttest_indResult(statistic=-0.5078907625572127, pvalue=0.6115382695303345)\nupdated_1 kilometrages  : Ttest_indResult(statistic=-0.865286631422312, pvalue=0.3868968965203279)\n\np-values > 0.05, therefore we cannot reject the null hypothesis, \ni.e. there is no statistically significant difference in the avg values.\n────────────────────────────────────────────────────────────────────────────────────────────────────\n\nTest to show that Arial-only data still has different means between baseline values seperated by sign position :\n\nTtest_indResult(statistic=12.69568787359053, pvalue=1.6333976432950103e-36)\n\np-values < 0.05, therefore we can reject the null hypothesis, \ni.e. there is a statistically significant difference in the avg values.\n────────────────────────────────────────────────────────────────────────────────────────────────────\n",
     "output_type": "stream"
    },
    {
     "data": {
      "text/plain": "<Figure size 720x360 with 2 Axes>",
      "image/png": "[encoded data removed]"
     },
     "metadata": {
      "needs_background": "light",
      "image/png": {
       "width": 849,
       "height": 363
      }
     },
     "output_type": "display_data"
    }
   ]
  },
  {
   "cell_type": "markdown",
   "source": [
    "<a style='text-decoration:none;line-height:16px;display:flex;color:#5B5B62;padding:10px;justify-content:end;' href='https://deepnote.com?utm_source=created-in-deepnote-cell&projectId=a25aa466-a2dc-4ad4-9304-58fc6e1ed48d' target=\"_blank\">\n",
    "<img alt='Created in deepnote.com' style='display:inline;max-height:16px;margin:0px;margin-right:7.5px;' src='data:image/svg+xml;base64,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' > </img>\n",
    "Created in <span style='font-weight:600;margin-left:4px;'>Deepnote</span></a>"
   ],
   "metadata": {
    "tags": [],
    "created_in_deepnote_cell": true,
    "deepnote_cell_type": "markdown",
    "pycharm": {
     "name": "#%% md\n"
    }
   }
  }
 ],
 "nbformat": 4,
 "nbformat_minor": 4,
 "metadata": {
  "deepnote": {},
  "deepnote_execution_queue": [],
  "deepnote_notebook_id": "9cce5f97-bb9b-4a14-bfa3-7d1e8b61fcdc",
  "kernelspec": {
   "display_name": "Python",
   "language": "python",
   "name": "python3"
  },
  "language_info": {
   "codemirror_mode": {
    "name": "ipython",
    "version": 3
   },
   "file_extension": ".py",
   "mimetype": "text/x-python",
   "name": "python",
   "nbconvert_exporter": "python",
   "pygments_lexer": "ipython3",
   "version": "3.8.10"
  },
  "pycharm": {
   "stem_cell": {
    "cell_type": "raw",
    "metadata": {
     "collapsed": false
    },
    "source": []
   }
  }
 }
}